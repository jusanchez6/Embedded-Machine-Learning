{
  "cells": [
    {
      "cell_type": "markdown",
      "metadata": {
        "id": "7SFBFiQlYlva"
      },
      "source": [
        "# Embedded ML - Lab 2.3: TensorFlow Lite Micro\n",
        "\n",
        "\n",
        "**Author:** Cristian David Araujo A. & Julian Sanchez\n",
        "\n",
        "**Date:** 05/06/2025"
      ]
    },
    {
      "cell_type": "markdown",
      "metadata": {
        "id": "DTNEs3wxwHHO"
      },
      "source": [
        "Tensor Flow Lite Micro (TFLM) is a library that aims to run ML models efficiently on embedded systems. It's a C++ library that provides a version of the TensorFlow Lite interpreter that supports less types of operations and uses less memory. The library also provides helper functions for data pre- and post-processing."
      ]
    },
    {
      "cell_type": "code",
      "execution_count": 2,
      "metadata": {
        "colab": {
          "base_uri": "https://localhost:8080/"
        },
        "id": "i23Iwsw4bBjb",
        "outputId": "6383d404-dabf-417f-c13b-4cf136958291"
      },
      "outputs": [
        {
          "name": "stdout",
          "output_type": "stream",
          "text": [
            "\u001b[2K   \u001b[90m━━━━━━━━━━━━━━━━━━━━━━━━━━━━━━━━━━━━━━━━\u001b[0m \u001b[32m442.0/442.0 kB\u001b[0m \u001b[31m11.9 MB/s\u001b[0m eta \u001b[36m0:00:00\u001b[0m\n",
            "\u001b[2K   \u001b[90m━━━━━━━━━━━━━━━━━━━━━━━━━━━━━━━━━━━━━━━━\u001b[0m \u001b[32m85.8/85.8 kB\u001b[0m \u001b[31m7.4 MB/s\u001b[0m eta \u001b[36m0:00:00\u001b[0m\n",
            "\u001b[2K   \u001b[90m━━━━━━━━━━━━━━━━━━━━━━━━━━━━━━━━━━━━━━━━\u001b[0m \u001b[32m66.8/66.8 kB\u001b[0m \u001b[31m6.1 MB/s\u001b[0m eta \u001b[36m0:00:00\u001b[0m\n",
            "\u001b[2K   \u001b[90m━━━━━━━━━━━━━━━━━━━━━━━━━━━━━━━━━━━━━━━━\u001b[0m \u001b[32m49.9/49.9 MB\u001b[0m \u001b[31m20.5 MB/s\u001b[0m eta \u001b[36m0:00:00\u001b[0m\n",
            "\u001b[2K   \u001b[90m━━━━━━━━━━━━━━━━━━━━━━━━━━━━━━━━━━━━━━━━\u001b[0m \u001b[32m7.8/7.8 MB\u001b[0m \u001b[31m119.1 MB/s\u001b[0m eta \u001b[36m0:00:00\u001b[0m\n",
            "\u001b[?25h"
          ]
        }
      ],
      "source": [
        "# To run this notebook, locally as a jupyter notebook, you need to install thhe proper packages.\n",
        "# follow the instructions below to set up your environment.\n",
        "\n",
        "\n",
        "# 1. Crea un entorno virtual usando conda o venv\n",
        "#    Por ejemplo, usando conda:\n",
        "#        conda create -n [myenv] python=3.8\n",
        "#        conda activate [myenv]\n",
        "#    O usando venv:\n",
        "#        python3 -m venv [myenv]\n",
        "#        source [myenv]/bin/activate\n",
        "#\n",
        "# 2. Activa el entorno virtual\n",
        "# 3. Instala los paquetes requeridos usando pip\n",
        "# 4. Ejecuta el notebook\n",
        "\n",
        "\n",
        "# Instala los paquetes requeridos:\n",
        "%pip install numpy -q\n",
        "%pip install pandas -q\n",
        "%pip install matplotlib -q\n",
        "%pip install tensorflow -q\n",
        "%pip install scikit-learn -q\n",
        "%pip install tensorflow-hub -q\n",
        "%pip install tensorflow-datasets -q\n",
        "%pip install tensorflow-estimator -q\n",
        "%pip install roboflow -q\n",
        "%pip install tabulate -q"
      ]
    },
    {
      "cell_type": "markdown",
      "metadata": {
        "id": "lQK0RRRuY3rJ"
      },
      "source": [
        "### Learning outcomes\n",
        "\n",
        "\n",
        "* Explain the basic concepts associated with TFLM\n",
        "* Use the API to implement the TFLM workflow for an embedded application\n",
        "* Execute TFLM code on a microcontroller-based embedded system"
      ]
    },
    {
      "cell_type": "markdown",
      "metadata": {
        "id": "l8wat6Kxul5R"
      },
      "source": [
        "### TensorFlow Lite Micro workflow"
      ]
    },
    {
      "cell_type": "markdown",
      "metadata": {
        "id": "P7yMmdHVGlBQ"
      },
      "source": [
        "TFLM's high-level workflow is rather simple:\n",
        "* Generate a small TensorFlow model that can fit your target device and contains supported operations.\n",
        "* Convert to a TensorFlow Lite model using the TensorFlow Lite converter, applying quantization if required.\n",
        "* Convert to a C byte array using standard tools and stored it in the read-only program memory on device.\n",
        "* Run inference on device using the TFLM C++ library and process the results."
      ]
    },
    {
      "cell_type": "markdown",
      "metadata": {
        "id": "B7k1FsSjhAYt"
      },
      "source": [
        "### Hello World and Hello Human"
      ]
    },
    {
      "cell_type": "markdown",
      "metadata": {
        "id": "Hd3ZdaAnhFYd"
      },
      "source": [
        "After installing the Arduino IDE and the board files, you should install the Harvard_TinyMLx library that contains the TensorFlow Lite Micro and other resources and examples to build ML apps with Arduino and TFLM. Later on, depending on the application you want to build and the specific hardware to be used, you should install the propper peripheral drivers for communication, sensing and actuating."
      ]
    },
    {
      "cell_type": "markdown",
      "metadata": {
        "id": "qw2a-MZTh3Za"
      },
      "source": [
        "\n",
        "\n",
        "*   Install Arduino IDE 2 from: https://downloads.arduino.cc/arduino-ide/arduino-ide_2.3.2_Linux_64bit.AppImage\n",
        "*   From the boards manager install: Arduino Mbed OS Nano boards\n",
        "*   Allow the linux user to access serial port: `sudo usermod -a -G dialout \\<username\\>` (reboot afterwards)\n",
        "*   From the library manager install: Harvard_TinyMLx\n",
        "\n",
        "\n"
      ]
    },
    {
      "cell_type": "markdown",
      "metadata": {
        "id": "kpML00lXjmIe"
      },
      "source": [
        "Now open the **Hello World** example from the Harvard_TinyMLx library File->Examples->Harvard_TinyMLx in Arduino IDE (also available in [this repo](https://github.com/tinyMLx/arduino-library/tree/main/examples/hello_world)), compile it and run it on the microcontroller board. It is an ML model to predict a sine wave that is used to dim on and off an LED. The Arduino IDE serial monitor should also show interger numbers up and down trying to model a sine wave. This is a test app to make sure that the basic HW and SW elements, including TFLM, are working."
      ]
    },
    {
      "cell_type": "markdown",
      "metadata": {
        "id": "oYHUC3Jkpb5o"
      },
      "source": [
        "Inspect the code to make sure you identify and understand the main parts of the workflow."
      ]
    },
    {
      "cell_type": "markdown",
      "metadata": {
        "id": "drf1xEruN1E2"
      },
      "source": [
        "Running on-device inference using the TFLM C++ library usually involves:\n",
        "\n",
        "* Include the library headers\n",
        "* Include the model header\n",
        "* Load a model\n",
        "* Instantiate operations resolver\n",
        "* Allocate memory\n",
        "* Instantiate interpreter\n",
        "* Read and pre-process input data\n",
        "* Provide inputs to the allocated tensors\n",
        "* Run inference\n",
        "* Get results from the output tensors\n",
        "* Take action based on outputs"
      ]
    },
    {
      "cell_type": "markdown",
      "metadata": {
        "id": "Hl9oeI3e7Aq7"
      },
      "source": [
        "After you have succesfully run the Hello World example, move on to running the **Person Detection** example from the same library. Explore the code in detail to understand how to handle the **camera**."
      ]
    },
    {
      "cell_type": "markdown",
      "metadata": {
        "id": "VNXSXWHrsJ9x"
      },
      "source": [
        "### TinyML application development"
      ]
    },
    {
      "cell_type": "markdown",
      "metadata": {
        "id": "o7a8wQ45sT3c"
      },
      "source": [
        "ML applications that run on embeded systems with very limited resources are often called TinyML. In this lab the goal is to develop a simple TinyML application that uses computer vision up to its deployment on the target embedded device: **Arduino Nano 33 BLE.**\n",
        "\n",
        "Follow these steps in order to develop your TinyML application:\n",
        "\n",
        "1. Select two visual objects that are radically different and  assemble a dataset that contains at least hundreds or thousands of examples. You can create the images yourslef or extract them from a public database and apply data augmentation.\n",
        "\n",
        "2. Design and train a model to classify between the two chosen objects. You can build a dense or CNN model from scratch, or use transfer learning, but you should always keep in mind the very limited memory resources of the target device as well as the image properties of the embedded camera.\n",
        "\n",
        "3.   Export the trained model to a file and convert it to a C header by running the following linux command: `xxd -i converted_model.tflite > converted_model_data.h`\n",
        "\n",
        "4.   Develop an Arduino code based on the Hello World and Person Detection examples, to detect whether any of the two objects are present on the camera view. Indicate the result through the RGB LED.\n",
        "\n",
        "Include in your notebook submission both the code you developed to build the model as well as the C++ codes for the MCU."
      ]
    },
    {
      "cell_type": "code",
      "execution_count": 2,
      "metadata": {
        "colab": {
          "base_uri": "https://localhost:8080/"
        },
        "id": "aPyCLrnwbBjl",
        "outputId": "ce1af73e-575d-40ae-b93a-b6e2532a35e0"
      },
      "outputs": [
        {
          "name": "stdout",
          "output_type": "stream",
          "text": [
            "loading Roboflow workspace...\n",
            "loading Roboflow project...\n"
          ]
        },
        {
          "name": "stderr",
          "output_type": "stream",
          "text": [
            "Downloading Dataset Version Zip in Rock-Paper-Scissors-6 to folder:: 100%|██████████| 15935/15935 [00:11<00:00, 1367.49it/s]"
          ]
        },
        {
          "name": "stdout",
          "output_type": "stream",
          "text": [
            "\n"
          ]
        },
        {
          "name": "stderr",
          "output_type": "stream",
          "text": [
            "\n",
            "Extracting Dataset Version Zip to Rock-Paper-Scissors-6 in folder:: 100%|██████████| 7979/7979 [00:01<00:00, 7457.61it/s]\n"
          ]
        }
      ],
      "source": [
        "# Step 1: Download the dataset from Roboflow\n",
        "from roboflow import Roboflow\n",
        "\n",
        "rf = Roboflow(api_key=\"w5hJLcBvvd3Y3rBjxkkU\")\n",
        "project = rf.workspace(\"eml-pb5ag\").project(\"rock-paper-scissors-vwkqp\")\n",
        "version = project.version(6)\n",
        "dataset = version.download(\"folder\")\n"
      ]
    },
    {
      "cell_type": "code",
      "execution_count": 23,
      "metadata": {
        "id": "4OjWtVfQdPxs"
      },
      "outputs": [],
      "source": [
        "!rm -r Rock-Paper-Scissors-6"
      ]
    },
    {
      "cell_type": "code",
      "execution_count": 3,
      "metadata": {
        "colab": {
          "base_uri": "https://localhost:8080/"
        },
        "id": "1lXeFS0fkLi1",
        "outputId": "bd07fa77-6436-4a28-ca74-88c54dc72127"
      },
      "outputs": [
        {
          "name": "stdout",
          "output_type": "stream",
          "text": [
            "Dataset reorganizado con split 70/20/10 en: RockPaperScissors_Split\n",
            "Total imágenes: 7965 → Train: 5575, Valid: 1593, Test: 797\n"
          ]
        }
      ],
      "source": [
        "import os\n",
        "import shutil\n",
        "import random\n",
        "from pathlib import Path\n",
        "\n",
        "# Ruta base del dataset descargado por Roboflow\n",
        "base_path = Path(\"Rock-Paper-Scissors-6\")  # Ajusta si la carpeta tiene otro nombre\n",
        "original_splits = [\"train\", \"valid\", \"test\"]\n",
        "\n",
        "# Reunir todas las imágenes y etiquetas de todas las clases\n",
        "all_items = []\n",
        "\n",
        "for split in original_splits:\n",
        "    split_path = base_path / split\n",
        "    for class_dir in split_path.iterdir():\n",
        "        if class_dir.is_dir():\n",
        "            for img_file in class_dir.glob(\"*.jpg\"):\n",
        "                label_file = img_file.with_suffix(\".txt\")\n",
        "                all_items.append((img_file, label_file, class_dir.name))  # (imagen, etiqueta, clase)\n",
        "\n",
        "# Mezclar aleatoriamente los datos\n",
        "random.shuffle(all_items)\n",
        "\n",
        "# Calcular la cantidad por split\n",
        "total = len(all_items)\n",
        "train_count = int(0.7 * total)\n",
        "valid_count = int(0.2 * total)\n",
        "test_count  = total - train_count - valid_count  # el resto\n",
        "\n",
        "# Separar los ítems\n",
        "train_items = all_items[:train_count]\n",
        "valid_items = all_items[train_count:train_count + valid_count]\n",
        "test_items  = all_items[train_count + valid_count:]\n",
        "\n",
        "# Nueva ruta base para reorganizar\n",
        "new_base = base_path.parent / \"RockPaperScissors_Split\"\n",
        "\n",
        "# Borrar carpeta de salida si existe\n",
        "if new_base.exists():\n",
        "    shutil.rmtree(new_base)\n",
        "\n",
        "# Función para mover archivos\n",
        "def move_items(items, split_name):\n",
        "    for img_file, label_file, class_name in items:\n",
        "        dest_dir = new_base / split_name / class_name\n",
        "        dest_dir.mkdir(parents=True, exist_ok=True)\n",
        "\n",
        "        # Copiar imagen\n",
        "        shutil.copy(img_file, dest_dir / img_file.name)\n",
        "\n",
        "        # Copiar etiqueta si existe\n",
        "        if label_file.exists():\n",
        "            shutil.copy(label_file, dest_dir / label_file.name)\n",
        "\n",
        "# Mover los archivos a las nuevas carpetas\n",
        "move_items(train_items, \"train\")\n",
        "move_items(valid_items, \"valid\")\n",
        "move_items(test_items, \"test\")\n",
        "\n",
        "print(f\"Dataset reorganizado con split 70/20/10 en: {new_base}\")\n",
        "print(f\"Total imágenes: {total} → Train: {len(train_items)}, Valid: {len(valid_items)}, Test: {len(test_items)}\")\n"
      ]
    },
    {
      "cell_type": "code",
      "execution_count": 4,
      "metadata": {
        "colab": {
          "base_uri": "https://localhost:8080/"
        },
        "id": "ubWRSXethSl8",
        "outputId": "592fdca5-42ff-4111-dd22-97683ce6a90a"
      },
      "outputs": [
        {
          "name": "stdout",
          "output_type": "stream",
          "text": [
            "\n",
            " Split: train\n",
            "   Clase: scissors   -> 1864 imágenes\n",
            "   Clase: rock       -> 1849 imágenes\n",
            "   Clase: paper      -> 1862 imágenes\n",
            "\n",
            " Split: valid\n",
            "   Clase: scissors   ->  513 imágenes\n",
            "   Clase: rock       ->  539 imágenes\n",
            "   Clase: paper      ->  541 imágenes\n",
            "\n",
            " Split: test\n",
            "   Clase: scissors   ->  278 imágenes\n",
            "   Clase: rock       ->  267 imágenes\n",
            "   Clase: paper      ->  252 imágenes\n"
          ]
        }
      ],
      "source": [
        "from pathlib import Path\n",
        "\n",
        "# Ruta base del dataset\n",
        "base_path = Path(\"RockPaperScissors_Split\")\n",
        "\n",
        "# Recorre cada subcarpeta (train, valid, test) y sus clases\n",
        "for split in [\"train\", \"valid\", \"test\"]:\n",
        "    split_path = base_path / split\n",
        "    print(f\"\\n Split: {split}\")\n",
        "    if not split_path.exists():\n",
        "        print(\"   No existe esta carpeta.\")\n",
        "        continue\n",
        "    for class_dir in split_path.iterdir():\n",
        "        if class_dir.is_dir():\n",
        "            image_count = len(list(class_dir.glob(\"*.jpg\")))\n",
        "            print(f\"   Clase: {class_dir.name:10s} -> {image_count:4d} imágenes\")\n"
      ]
    },
    {
      "cell_type": "code",
      "execution_count": 36,
      "metadata": {
        "colab": {
          "base_uri": "https://localhost:8080/"
        },
        "id": "m1eGSpYvbBjm",
        "outputId": "036ee272-7a4c-4e65-a7f4-57284b449b4a"
      },
      "outputs": [
        {
          "name": "stdout",
          "output_type": "stream",
          "text": [
            "Found 5575 images belonging to 3 classes.\n",
            "Found 1593 images belonging to 3 classes.\n",
            "Found 797 images belonging to 3 classes.\n"
          ]
        }
      ],
      "source": [
        "# Step 2: Load the dataset and prepare the data generators\n",
        "\n",
        "import tensorflow as tf\n",
        "from tensorflow.keras.preprocessing.image import ImageDataGenerator\n",
        "\n",
        "IMG_SIZE = 96\n",
        "BATCH_SIZE = 16\n",
        "\n",
        "# Define the directories for training, validation, and testing\n",
        "train_dir = \"RockPaperScissors_Split/train\"\n",
        "valid_dir = \"RockPaperScissors_Split/valid\"\n",
        "test_dir  = \"RockPaperScissors_Split/test\"\n",
        "\n",
        "# Create ImageDataGenerators for training, validation, and testing\n",
        "train_gen = ImageDataGenerator(rescale=1./255)\n",
        "valid_gen = ImageDataGenerator(rescale=1./255)\n",
        "test_gen  = ImageDataGenerator(rescale=1./255)\n",
        "\n",
        "# Create data generators\n",
        "train_data = train_gen.flow_from_directory(\n",
        "    train_dir,\n",
        "    target_size=(IMG_SIZE, IMG_SIZE),\n",
        "    color_mode='grayscale',\n",
        "    class_mode='categorical',\n",
        "    batch_size=BATCH_SIZE,\n",
        "    shuffle=True\n",
        ")\n",
        "\n",
        "valid_data = valid_gen.flow_from_directory(\n",
        "    valid_dir,\n",
        "    target_size=(IMG_SIZE, IMG_SIZE),\n",
        "    color_mode='grayscale',\n",
        "    class_mode='categorical',\n",
        "    batch_size=BATCH_SIZE\n",
        ")\n",
        "\n",
        "test_data = test_gen.flow_from_directory(\n",
        "    test_dir,\n",
        "    target_size=(IMG_SIZE, IMG_SIZE),\n",
        "    color_mode='grayscale',\n",
        "    class_mode='categorical',\n",
        "    batch_size=BATCH_SIZE\n",
        ")\n"
      ]
    },
    {
      "cell_type": "code",
      "execution_count": 37,
      "metadata": {
        "colab": {
          "base_uri": "https://localhost:8080/",
          "height": 1000
        },
        "id": "9WG__VnjbBjm",
        "outputId": "4c8f0d8d-ab16-4b06-980e-ed13f5d9701a"
      },
      "outputs": [
        {
          "data": {
            "text/html": [
              "<pre style=\"white-space:pre;overflow-x:auto;line-height:normal;font-family:Menlo,'DejaVu Sans Mono',consolas,'Courier New',monospace\"><span style=\"font-weight: bold\">Model: \"sequential_2\"</span>\n",
              "</pre>\n"
            ],
            "text/plain": [
              "\u001b[1mModel: \"sequential_2\"\u001b[0m\n"
            ]
          },
          "metadata": {},
          "output_type": "display_data"
        },
        {
          "data": {
            "text/html": [
              "<pre style=\"white-space:pre;overflow-x:auto;line-height:normal;font-family:Menlo,'DejaVu Sans Mono',consolas,'Courier New',monospace\">┏━━━━━━━━━━━━━━━━━━━━━━━━━━━━━━━━━┳━━━━━━━━━━━━━━━━━━━━━━━━┳━━━━━━━━━━━━━━━┓\n",
              "┃<span style=\"font-weight: bold\"> Layer (type)                    </span>┃<span style=\"font-weight: bold\"> Output Shape           </span>┃<span style=\"font-weight: bold\">       Param # </span>┃\n",
              "┡━━━━━━━━━━━━━━━━━━━━━━━━━━━━━━━━━╇━━━━━━━━━━━━━━━━━━━━━━━━╇━━━━━━━━━━━━━━━┩\n",
              "│ conv2d_4 (<span style=\"color: #0087ff; text-decoration-color: #0087ff\">Conv2D</span>)               │ (<span style=\"color: #00d7ff; text-decoration-color: #00d7ff\">None</span>, <span style=\"color: #00af00; text-decoration-color: #00af00\">94</span>, <span style=\"color: #00af00; text-decoration-color: #00af00\">94</span>, <span style=\"color: #00af00; text-decoration-color: #00af00\">8</span>)      │            <span style=\"color: #00af00; text-decoration-color: #00af00\">80</span> │\n",
              "├─────────────────────────────────┼────────────────────────┼───────────────┤\n",
              "│ max_pooling2d_4 (<span style=\"color: #0087ff; text-decoration-color: #0087ff\">MaxPooling2D</span>)  │ (<span style=\"color: #00d7ff; text-decoration-color: #00d7ff\">None</span>, <span style=\"color: #00af00; text-decoration-color: #00af00\">47</span>, <span style=\"color: #00af00; text-decoration-color: #00af00\">47</span>, <span style=\"color: #00af00; text-decoration-color: #00af00\">8</span>)      │             <span style=\"color: #00af00; text-decoration-color: #00af00\">0</span> │\n",
              "├─────────────────────────────────┼────────────────────────┼───────────────┤\n",
              "│ conv2d_5 (<span style=\"color: #0087ff; text-decoration-color: #0087ff\">Conv2D</span>)               │ (<span style=\"color: #00d7ff; text-decoration-color: #00d7ff\">None</span>, <span style=\"color: #00af00; text-decoration-color: #00af00\">45</span>, <span style=\"color: #00af00; text-decoration-color: #00af00\">45</span>, <span style=\"color: #00af00; text-decoration-color: #00af00\">8</span>)      │           <span style=\"color: #00af00; text-decoration-color: #00af00\">584</span> │\n",
              "├─────────────────────────────────┼────────────────────────┼───────────────┤\n",
              "│ max_pooling2d_5 (<span style=\"color: #0087ff; text-decoration-color: #0087ff\">MaxPooling2D</span>)  │ (<span style=\"color: #00d7ff; text-decoration-color: #00d7ff\">None</span>, <span style=\"color: #00af00; text-decoration-color: #00af00\">22</span>, <span style=\"color: #00af00; text-decoration-color: #00af00\">22</span>, <span style=\"color: #00af00; text-decoration-color: #00af00\">8</span>)      │             <span style=\"color: #00af00; text-decoration-color: #00af00\">0</span> │\n",
              "├─────────────────────────────────┼────────────────────────┼───────────────┤\n",
              "│ flatten_2 (<span style=\"color: #0087ff; text-decoration-color: #0087ff\">Flatten</span>)             │ (<span style=\"color: #00d7ff; text-decoration-color: #00d7ff\">None</span>, <span style=\"color: #00af00; text-decoration-color: #00af00\">3872</span>)           │             <span style=\"color: #00af00; text-decoration-color: #00af00\">0</span> │\n",
              "├─────────────────────────────────┼────────────────────────┼───────────────┤\n",
              "│ dense_4 (<span style=\"color: #0087ff; text-decoration-color: #0087ff\">Dense</span>)                 │ (<span style=\"color: #00d7ff; text-decoration-color: #00d7ff\">None</span>, <span style=\"color: #00af00; text-decoration-color: #00af00\">32</span>)             │       <span style=\"color: #00af00; text-decoration-color: #00af00\">123,936</span> │\n",
              "├─────────────────────────────────┼────────────────────────┼───────────────┤\n",
              "│ dense_5 (<span style=\"color: #0087ff; text-decoration-color: #0087ff\">Dense</span>)                 │ (<span style=\"color: #00d7ff; text-decoration-color: #00d7ff\">None</span>, <span style=\"color: #00af00; text-decoration-color: #00af00\">3</span>)              │            <span style=\"color: #00af00; text-decoration-color: #00af00\">99</span> │\n",
              "└─────────────────────────────────┴────────────────────────┴───────────────┘\n",
              "</pre>\n"
            ],
            "text/plain": [
              "┏━━━━━━━━━━━━━━━━━━━━━━━━━━━━━━━━━┳━━━━━━━━━━━━━━━━━━━━━━━━┳━━━━━━━━━━━━━━━┓\n",
              "┃\u001b[1m \u001b[0m\u001b[1mLayer (type)                   \u001b[0m\u001b[1m \u001b[0m┃\u001b[1m \u001b[0m\u001b[1mOutput Shape          \u001b[0m\u001b[1m \u001b[0m┃\u001b[1m \u001b[0m\u001b[1m      Param #\u001b[0m\u001b[1m \u001b[0m┃\n",
              "┡━━━━━━━━━━━━━━━━━━━━━━━━━━━━━━━━━╇━━━━━━━━━━━━━━━━━━━━━━━━╇━━━━━━━━━━━━━━━┩\n",
              "│ conv2d_4 (\u001b[38;5;33mConv2D\u001b[0m)               │ (\u001b[38;5;45mNone\u001b[0m, \u001b[38;5;34m94\u001b[0m, \u001b[38;5;34m94\u001b[0m, \u001b[38;5;34m8\u001b[0m)      │            \u001b[38;5;34m80\u001b[0m │\n",
              "├─────────────────────────────────┼────────────────────────┼───────────────┤\n",
              "│ max_pooling2d_4 (\u001b[38;5;33mMaxPooling2D\u001b[0m)  │ (\u001b[38;5;45mNone\u001b[0m, \u001b[38;5;34m47\u001b[0m, \u001b[38;5;34m47\u001b[0m, \u001b[38;5;34m8\u001b[0m)      │             \u001b[38;5;34m0\u001b[0m │\n",
              "├─────────────────────────────────┼────────────────────────┼───────────────┤\n",
              "│ conv2d_5 (\u001b[38;5;33mConv2D\u001b[0m)               │ (\u001b[38;5;45mNone\u001b[0m, \u001b[38;5;34m45\u001b[0m, \u001b[38;5;34m45\u001b[0m, \u001b[38;5;34m8\u001b[0m)      │           \u001b[38;5;34m584\u001b[0m │\n",
              "├─────────────────────────────────┼────────────────────────┼───────────────┤\n",
              "│ max_pooling2d_5 (\u001b[38;5;33mMaxPooling2D\u001b[0m)  │ (\u001b[38;5;45mNone\u001b[0m, \u001b[38;5;34m22\u001b[0m, \u001b[38;5;34m22\u001b[0m, \u001b[38;5;34m8\u001b[0m)      │             \u001b[38;5;34m0\u001b[0m │\n",
              "├─────────────────────────────────┼────────────────────────┼───────────────┤\n",
              "│ flatten_2 (\u001b[38;5;33mFlatten\u001b[0m)             │ (\u001b[38;5;45mNone\u001b[0m, \u001b[38;5;34m3872\u001b[0m)           │             \u001b[38;5;34m0\u001b[0m │\n",
              "├─────────────────────────────────┼────────────────────────┼───────────────┤\n",
              "│ dense_4 (\u001b[38;5;33mDense\u001b[0m)                 │ (\u001b[38;5;45mNone\u001b[0m, \u001b[38;5;34m32\u001b[0m)             │       \u001b[38;5;34m123,936\u001b[0m │\n",
              "├─────────────────────────────────┼────────────────────────┼───────────────┤\n",
              "│ dense_5 (\u001b[38;5;33mDense\u001b[0m)                 │ (\u001b[38;5;45mNone\u001b[0m, \u001b[38;5;34m3\u001b[0m)              │            \u001b[38;5;34m99\u001b[0m │\n",
              "└─────────────────────────────────┴────────────────────────┴───────────────┘\n"
            ]
          },
          "metadata": {},
          "output_type": "display_data"
        },
        {
          "data": {
            "text/html": [
              "<pre style=\"white-space:pre;overflow-x:auto;line-height:normal;font-family:Menlo,'DejaVu Sans Mono',consolas,'Courier New',monospace\"><span style=\"font-weight: bold\"> Total params: </span><span style=\"color: #00af00; text-decoration-color: #00af00\">124,699</span> (487.11 KB)\n",
              "</pre>\n"
            ],
            "text/plain": [
              "\u001b[1m Total params: \u001b[0m\u001b[38;5;34m124,699\u001b[0m (487.11 KB)\n"
            ]
          },
          "metadata": {},
          "output_type": "display_data"
        },
        {
          "data": {
            "text/html": [
              "<pre style=\"white-space:pre;overflow-x:auto;line-height:normal;font-family:Menlo,'DejaVu Sans Mono',consolas,'Courier New',monospace\"><span style=\"font-weight: bold\"> Trainable params: </span><span style=\"color: #00af00; text-decoration-color: #00af00\">124,699</span> (487.11 KB)\n",
              "</pre>\n"
            ],
            "text/plain": [
              "\u001b[1m Trainable params: \u001b[0m\u001b[38;5;34m124,699\u001b[0m (487.11 KB)\n"
            ]
          },
          "metadata": {},
          "output_type": "display_data"
        },
        {
          "data": {
            "text/html": [
              "<pre style=\"white-space:pre;overflow-x:auto;line-height:normal;font-family:Menlo,'DejaVu Sans Mono',consolas,'Courier New',monospace\"><span style=\"font-weight: bold\"> Non-trainable params: </span><span style=\"color: #00af00; text-decoration-color: #00af00\">0</span> (0.00 B)\n",
              "</pre>\n"
            ],
            "text/plain": [
              "\u001b[1m Non-trainable params: \u001b[0m\u001b[38;5;34m0\u001b[0m (0.00 B)\n"
            ]
          },
          "metadata": {},
          "output_type": "display_data"
        },
        {
          "name": "stdout",
          "output_type": "stream",
          "text": [
            "Epoch 1/20\n"
          ]
        },
        {
          "name": "stderr",
          "output_type": "stream",
          "text": [
            "Your `PyDataset` class should call `super().__init__(**kwargs)` in its constructor. `**kwargs` can include `workers`, `use_multiprocessing`, `max_queue_size`. Do not pass these arguments to `fit()`, as they will be ignored.\n"
          ]
        },
        {
          "name": "stdout",
          "output_type": "stream",
          "text": [
            "\u001b[1m349/349\u001b[0m \u001b[32m━━━━━━━━━━━━━━━━━━━━\u001b[0m\u001b[37m\u001b[0m \u001b[1m8s\u001b[0m 17ms/step - accuracy: 0.3742 - loss: 1.0963 - val_accuracy: 0.5148 - val_loss: 0.9342\n",
            "Epoch 2/20\n",
            "\u001b[1m349/349\u001b[0m \u001b[32m━━━━━━━━━━━━━━━━━━━━\u001b[0m\u001b[37m\u001b[0m \u001b[1m5s\u001b[0m 14ms/step - accuracy: 0.5505 - loss: 0.8851 - val_accuracy: 0.5461 - val_loss: 0.7692\n",
            "Epoch 3/20\n",
            "\u001b[1m349/349\u001b[0m \u001b[32m━━━━━━━━━━━━━━━━━━━━\u001b[0m\u001b[37m\u001b[0m \u001b[1m4s\u001b[0m 11ms/step - accuracy: 0.6677 - loss: 0.6902 - val_accuracy: 0.7740 - val_loss: 0.5094\n",
            "Epoch 4/20\n",
            "\u001b[1m349/349\u001b[0m \u001b[32m━━━━━━━━━━━━━━━━━━━━\u001b[0m\u001b[37m\u001b[0m \u001b[1m9s\u001b[0m 21ms/step - accuracy: 0.8367 - loss: 0.4489 - val_accuracy: 0.8362 - val_loss: 0.4241\n",
            "Epoch 5/20\n",
            "\u001b[1m349/349\u001b[0m \u001b[32m━━━━━━━━━━━━━━━━━━━━\u001b[0m\u001b[37m\u001b[0m \u001b[1m4s\u001b[0m 11ms/step - accuracy: 0.9024 - loss: 0.3047 - val_accuracy: 0.9102 - val_loss: 0.2889\n",
            "Epoch 6/20\n",
            "\u001b[1m349/349\u001b[0m \u001b[32m━━━━━━━━━━━━━━━━━━━━\u001b[0m\u001b[37m\u001b[0m \u001b[1m4s\u001b[0m 11ms/step - accuracy: 0.9318 - loss: 0.2258 - val_accuracy: 0.9033 - val_loss: 0.2853\n",
            "Epoch 7/20\n",
            "\u001b[1m349/349\u001b[0m \u001b[32m━━━━━━━━━━━━━━━━━━━━\u001b[0m\u001b[37m\u001b[0m \u001b[1m5s\u001b[0m 13ms/step - accuracy: 0.9477 - loss: 0.1685 - val_accuracy: 0.9240 - val_loss: 0.2398\n",
            "Epoch 8/20\n",
            "\u001b[1m349/349\u001b[0m \u001b[32m━━━━━━━━━━━━━━━━━━━━\u001b[0m\u001b[37m\u001b[0m \u001b[1m4s\u001b[0m 12ms/step - accuracy: 0.9588 - loss: 0.1217 - val_accuracy: 0.9435 - val_loss: 0.1667\n",
            "Epoch 9/20\n",
            "\u001b[1m349/349\u001b[0m \u001b[32m━━━━━━━━━━━━━━━━━━━━\u001b[0m\u001b[37m\u001b[0m \u001b[1m4s\u001b[0m 12ms/step - accuracy: 0.9751 - loss: 0.0801 - val_accuracy: 0.9611 - val_loss: 0.1196\n",
            "Epoch 10/20\n",
            "\u001b[1m349/349\u001b[0m \u001b[32m━━━━━━━━━━━━━━━━━━━━\u001b[0m\u001b[37m\u001b[0m \u001b[1m5s\u001b[0m 13ms/step - accuracy: 0.9823 - loss: 0.0573 - val_accuracy: 0.9642 - val_loss: 0.1033\n",
            "Epoch 11/20\n",
            "\u001b[1m349/349\u001b[0m \u001b[32m━━━━━━━━━━━━━━━━━━━━\u001b[0m\u001b[37m\u001b[0m \u001b[1m4s\u001b[0m 11ms/step - accuracy: 0.9884 - loss: 0.0448 - val_accuracy: 0.9667 - val_loss: 0.1014\n",
            "Epoch 12/20\n",
            "\u001b[1m349/349\u001b[0m \u001b[32m━━━━━━━━━━━━━━━━━━━━\u001b[0m\u001b[37m\u001b[0m \u001b[1m4s\u001b[0m 11ms/step - accuracy: 0.9939 - loss: 0.0270 - val_accuracy: 0.9661 - val_loss: 0.0999\n",
            "Epoch 13/20\n",
            "\u001b[1m349/349\u001b[0m \u001b[32m━━━━━━━━━━━━━━━━━━━━\u001b[0m\u001b[37m\u001b[0m \u001b[1m5s\u001b[0m 13ms/step - accuracy: 0.9944 - loss: 0.0234 - val_accuracy: 0.9699 - val_loss: 0.1038\n",
            "Epoch 14/20\n",
            "\u001b[1m349/349\u001b[0m \u001b[32m━━━━━━━━━━━━━━━━━━━━\u001b[0m\u001b[37m\u001b[0m \u001b[1m4s\u001b[0m 11ms/step - accuracy: 0.9934 - loss: 0.0190 - val_accuracy: 0.9630 - val_loss: 0.1198\n",
            "Epoch 15/20\n",
            "\u001b[1m349/349\u001b[0m \u001b[32m━━━━━━━━━━━━━━━━━━━━\u001b[0m\u001b[37m\u001b[0m \u001b[1m4s\u001b[0m 11ms/step - accuracy: 0.9944 - loss: 0.0264 - val_accuracy: 0.9692 - val_loss: 0.1074\n",
            "Epoch 16/20\n",
            "\u001b[1m349/349\u001b[0m \u001b[32m━━━━━━━━━━━━━━━━━━━━\u001b[0m\u001b[37m\u001b[0m \u001b[1m5s\u001b[0m 13ms/step - accuracy: 0.9982 - loss: 0.0108 - val_accuracy: 0.9787 - val_loss: 0.0944\n",
            "Epoch 17/20\n",
            "\u001b[1m349/349\u001b[0m \u001b[32m━━━━━━━━━━━━━━━━━━━━\u001b[0m\u001b[37m\u001b[0m \u001b[1m4s\u001b[0m 11ms/step - accuracy: 0.9997 - loss: 0.0035 - val_accuracy: 0.9812 - val_loss: 0.0765\n",
            "Epoch 18/20\n",
            "\u001b[1m349/349\u001b[0m \u001b[32m━━━━━━━━━━━━━━━━━━━━\u001b[0m\u001b[37m\u001b[0m \u001b[1m4s\u001b[0m 11ms/step - accuracy: 0.9986 - loss: 0.0060 - val_accuracy: 0.9787 - val_loss: 0.0917\n",
            "Epoch 19/20\n",
            "\u001b[1m349/349\u001b[0m \u001b[32m━━━━━━━━━━━━━━━━━━━━\u001b[0m\u001b[37m\u001b[0m \u001b[1m5s\u001b[0m 13ms/step - accuracy: 0.9985 - loss: 0.0059 - val_accuracy: 0.9761 - val_loss: 0.0952\n",
            "Epoch 20/20\n",
            "\u001b[1m349/349\u001b[0m \u001b[32m━━━━━━━━━━━━━━━━━━━━\u001b[0m\u001b[37m\u001b[0m \u001b[1m4s\u001b[0m 11ms/step - accuracy: 0.9989 - loss: 0.0051 - val_accuracy: 0.9529 - val_loss: 0.1879\n"
          ]
        }
      ],
      "source": [
        "# Step 3: Build and compile the model\n",
        "\n",
        "\n",
        "model = tf.keras.models.Sequential([\n",
        "    tf.keras.layers.Input(shape=(IMG_SIZE, IMG_SIZE, 1)),\n",
        "    tf.keras.layers.Conv2D(8, (3, 3), activation='relu'),\n",
        "    tf.keras.layers.MaxPooling2D(2, 2),\n",
        "    tf.keras.layers.Conv2D(8, (3, 3), activation='relu'),\n",
        "    tf.keras.layers.MaxPooling2D(2, 2),\n",
        "    tf.keras.layers.Flatten(),\n",
        "    tf.keras.layers.Dense(32, activation='relu'),\n",
        "    tf.keras.layers.Dense(3, activation='softmax'),\n",
        "])\n",
        "\n",
        "# Compile the model\n",
        "model.compile(\n",
        "    optimizer='adam',\n",
        "    loss='categorical_crossentropy',\n",
        "    metrics=['accuracy']\n",
        ")\n",
        "\n",
        "# Display the model summary\n",
        "model.summary()\n",
        "\n",
        "\n",
        "# Train the model\n",
        "EPOCHS = 50\n",
        "model.fit(train_data, validation_data=valid_data, epochs=EPOCHS)\n",
        "\n",
        "# save the model\n",
        "model.save(\"rock_paper_scissors_model.keras\")"
      ]
    },
    {
      "cell_type": "code",
      "execution_count": 38,
      "metadata": {
        "colab": {
          "base_uri": "https://localhost:8080/"
        },
        "id": "EJ5Up_kdbBjn",
        "outputId": "20328f9c-64c1-4274-ca4b-7f2ec8bd9869"
      },
      "outputs": [
        {
          "name": "stdout",
          "output_type": "stream",
          "text": [
            "Saved artifact at '/tmp/tmpzwzy6imd'. The following endpoints are available:\n",
            "\n",
            "* Endpoint 'serve'\n",
            "  args_0 (POSITIONAL_ONLY): TensorSpec(shape=(None, 96, 96, 1), dtype=tf.float32, name='keras_tensor_16')\n",
            "Output Type:\n",
            "  TensorSpec(shape=(None, 3), dtype=tf.float32, name=None)\n",
            "Captures:\n",
            "  139873779382032: TensorSpec(shape=(), dtype=tf.resource, name=None)\n",
            "  139873400162448: TensorSpec(shape=(), dtype=tf.resource, name=None)\n",
            "  139872330867984: TensorSpec(shape=(), dtype=tf.resource, name=None)\n",
            "  139872330868560: TensorSpec(shape=(), dtype=tf.resource, name=None)\n",
            "  139872330867600: TensorSpec(shape=(), dtype=tf.resource, name=None)\n",
            "  139872330869328: TensorSpec(shape=(), dtype=tf.resource, name=None)\n",
            "  139872330868752: TensorSpec(shape=(), dtype=tf.resource, name=None)\n",
            "  139872330870096: TensorSpec(shape=(), dtype=tf.resource, name=None)\n"
          ]
        },
        {
          "name": "stderr",
          "output_type": "stream",
          "text": [
            "Statistics for quantized inputs were expected, but not specified; continuing anyway.\n"
          ]
        }
      ],
      "source": [
        "# Step 4: Convert the model to tflite int8 format\n",
        "\n",
        "converter = tf.lite.TFLiteConverter.from_keras_model(model)\n",
        "converter.optimizations = [tf.lite.Optimize.DEFAULT]\n",
        "\n",
        "\n",
        "# Set representative dataset for quantization\n",
        "# Define a representative dataset generator for post-training quantization.\n",
        "# This function yields batches of input data in the correct shape and type,\n",
        "# allowing the TFLite converter to calibrate the quantization ranges.\n",
        "def representative_dataset_gen():\n",
        "    for _ in range(100):\n",
        "        # Get a batch of images from the training data generator\n",
        "        data, _ = next(train_data)\n",
        "        # Yield a single image as a list of tensors, as required by TFLite\n",
        "        yield [tf.convert_to_tensor(data[0:1], dtype=tf.float32)]\n",
        "\n",
        "\n",
        "# Assign the representative dataset generator to the converter\n",
        "converter.representative_dataset = representative_dataset_gen\n",
        "\n",
        "# Convert the model to TFLite format\n",
        "converter.target_spec.supported_ops = [tf.lite.OpsSet.TFLITE_BUILTINS_INT8]\n",
        "\n",
        "converter.inference_input_type = tf.int8  # Set input type to int8\n",
        "converter.inference_output_type = tf.int8  # Set output type to int8\n",
        "\n",
        "# Convert the model to TFLite format with optimizations\n",
        "tflite_model = converter.convert()\n",
        "\n",
        "# Save the converted TFLite model to a file\n",
        "with open(\"model.tflite\", \"wb\") as f:\n",
        "    f.write(tflite_model)\n",
        "\n",
        "# Convert the model to C header file\n",
        "!xxd -i model.tflite > model.cpp\n",
        "\n"
      ]
    },
    {
      "cell_type": "code",
      "execution_count": 39,
      "metadata": {
        "colab": {
          "base_uri": "https://localhost:8080/",
          "height": 913
        },
        "id": "Fxr5zdPsbBjn",
        "outputId": "ebdf2039-c3e2-437a-e1f5-4e3814b1e89b"
      },
      "outputs": [
        {
          "data": {
            "image/png": "[encoded data removed]",
            "text/plain": [
              "<Figure size 800x800 with 2 Axes>"
            ]
          },
          "metadata": {},
          "output_type": "display_data"
        },
        {
          "name": "stdout",
          "output_type": "stream",
          "text": [
            "Classification Report:\n",
            "[[244  15   5]\n",
            " [  4 274   4]\n",
            " [  4   4 243]]\n",
            "classification_report:\n",
            "              precision    recall  f1-score   support\n",
            "\n",
            "       paper       0.97      0.92      0.95       264\n",
            "        rock       0.94      0.97      0.95       282\n",
            "    scissors       0.96      0.97      0.97       251\n",
            "\n",
            "    accuracy                           0.95       797\n",
            "   macro avg       0.96      0.95      0.95       797\n",
            "weighted avg       0.96      0.95      0.95       797\n",
            "\n"
          ]
        }
      ],
      "source": [
        "import numpy as np\n",
        "import matplotlib.pyplot as plt\n",
        "from sklearn.metrics import confusion_matrix, ConfusionMatrixDisplay, classification_report\n",
        "\n",
        "# Reset the test data generator to ensure it starts from the beginning\n",
        "test_data.reset()\n",
        "\n",
        "# Initialize lists to store true labels and predicted labels\n",
        "y_true = []\n",
        "y_pred = []\n",
        "\n",
        "# predict on the test data\n",
        "for i in range(len(test_data)):\n",
        "    # Get a batch of images and labels\n",
        "    x_batch, y_batch = test_data[i]\n",
        "    preds = model.predict(x_batch, verbose=0)\n",
        "\n",
        "    y_true.extend(np.argmax(y_batch, axis=1))\n",
        "    y_pred.extend(np.argmax(preds, axis=1))\n",
        "\n",
        "class_names = list(test_data.class_indices.keys())\n",
        "\n",
        "# Calculate the confusion matrix\n",
        "cm = confusion_matrix(y_true, y_pred, labels=np.arange(len(class_names)))\n",
        "\n",
        "\n",
        "# Plot the confusion matrix\n",
        "disp = ConfusionMatrixDisplay(confusion_matrix=cm, display_labels=class_names)\n",
        "fig, ax = plt.subplots(figsize=(8, 8))\n",
        "disp.plot(ax=ax, cmap=plt.cm.Blues, values_format='d')\n",
        "plt.title('Confusion Matrix from keras model')\n",
        "plt.show()\n",
        "\n",
        "# Print the confusion matrix\n",
        "print(\"Classification Report:\")\n",
        "print(cm)\n",
        "\n",
        "# Print the classification report\n",
        "report = classification_report(y_true, y_pred, target_names=class_names)\n",
        "print(\"classification_report:\")\n",
        "print(report)\n"
      ]
    },
    {
      "cell_type": "code",
      "execution_count": 40,
      "metadata": {
        "colab": {
          "base_uri": "https://localhost:8080/",
          "height": 948
        },
        "id": "MaQj8j5XbBjo",
        "outputId": "f48385ca-f99a-4479-a4f0-3ea7ae6a8a03"
      },
      "outputs": [
        {
          "name": "stdout",
          "output_type": "stream",
          "text": [
            "Input scale: 0.003921568859368563 Input zero point: -128\n",
            "Output scale: 0.00390625 Output zero point: -128\n"
          ]
        },
        {
          "data": {
            "image/png": "[encoded data removed]",
            "text/plain": [
              "<Figure size 800x800 with 2 Axes>"
            ]
          },
          "metadata": {},
          "output_type": "display_data"
        },
        {
          "name": "stdout",
          "output_type": "stream",
          "text": [
            "Confusion matrix:\n",
            "[[217  37  10]\n",
            " [  3 271   8]\n",
            " [  2   2 247]]\n",
            "classification_report:\n",
            "              precision    recall  f1-score   support\n",
            "\n",
            "       paper       0.98      0.82      0.89       264\n",
            "        rock       0.87      0.96      0.92       282\n",
            "    scissors       0.93      0.98      0.96       251\n",
            "\n",
            "    accuracy                           0.92       797\n",
            "   macro avg       0.93      0.92      0.92       797\n",
            "weighted avg       0.93      0.92      0.92       797\n",
            "\n"
          ]
        }
      ],
      "source": [
        "# Evaluate the tflite model\n",
        "\n",
        "interpreter = tf.lite.Interpreter(model_path=\"model.tflite\")\n",
        "interpreter.allocate_tensors()\n",
        "\n",
        "input_details = interpreter.get_input_details()\n",
        "output_details = interpreter.get_output_details()\n",
        "\n",
        "input_scale, input_zero_point = input_details[0]['quantization']\n",
        "output_scale, output_zero_point = output_details[0]['quantization']\n",
        "\n",
        "\n",
        "print(\"Input scale:\", input_scale, \"Input zero point:\", input_zero_point)\n",
        "print(\"Output scale:\", output_scale, \"Output zero point:\", output_zero_point)\n",
        "\n",
        "\n",
        "y_true = []\n",
        "y_pred = []\n",
        "\n",
        "for i in range(len(test_data)):\n",
        "\n",
        "    x_batch, y_batch = test_data[i]\n",
        "\n",
        "    for img, label in zip(x_batch, y_batch):\n",
        "        # Step 1: Resize the image to (128, 128)\n",
        "        img = tf.image.resize(img, (IMG_SIZE, IMG_SIZE)).numpy()\n",
        "\n",
        "        # Step 2: Ensure single channel (grayscale)\n",
        "        if img.ndim == 2:\n",
        "            img = np.expand_dims(img, axis=-1)\n",
        "\n",
        "        # Step 3: Quantize the image using the scale and zero point\n",
        "        img_quant = (img / input_scale) + input_zero_point\n",
        "        img_quant = np.clip(img_quant, 0, 255).astype(np.int8)\n",
        "\n",
        "        # Step 4: Add batch dimension\n",
        "        input_tensor = np.expand_dims(img_quant, axis=0)\n",
        "\n",
        "        # Step 5: Set the input tensor\n",
        "        interpreter.set_tensor(input_details[0]['index'], input_tensor)\n",
        "\n",
        "        # Step 6: Invoke the interpreter\n",
        "        interpreter.invoke()\n",
        "\n",
        "        # Step 7: Get the output tensor\n",
        "        output = interpreter.get_tensor(output_details[0]['index'])\n",
        "\n",
        "        # Step 8: Dequantize the output tensor\n",
        "        output = output_scale * (output.astype(np.float32) - output_zero_point)\n",
        "\n",
        "        # Step 9: Get the predicted class\n",
        "        pred_label = np.argmax(output)\n",
        "        true_label = np.argmax(label)\n",
        "\n",
        "        y_true.append(true_label)\n",
        "        y_pred.append(pred_label)\n",
        "\n",
        "\n",
        "# Evaluate the tflite model\n",
        "class_names = list(test_data.class_indices.keys())\n",
        "\n",
        "# Calculate the confusion matrix\n",
        "cm = confusion_matrix(y_true, y_pred, labels=np.arange(len(class_names)))\n",
        "\n",
        "# Plot the confusion matrix\n",
        "disp = ConfusionMatrixDisplay(confusion_matrix=cm, display_labels=class_names)\n",
        "fig, ax = plt.subplots(figsize=(8, 8))\n",
        "disp.plot(ax=ax, cmap=plt.cm.Blues, values_format='d')\n",
        "plt.title('Confusion Matrix from TFLite model')\n",
        "plt.show()\n",
        "\n",
        "# Print the confusion matrix\n",
        "print(\"Confusion matrix:\")\n",
        "print(cm)\n",
        "\n",
        "# Print the classification report\n",
        "report = classification_report(y_true, y_pred, target_names=class_names, zero_division=0)\n",
        "print(\"classification_report:\")\n",
        "print(report)"
      ]
    },
    {
      "cell_type": "code",
      "execution_count": 41,
      "metadata": {
        "id": "zwOi98aRbBjo"
      },
      "outputs": [],
      "source": [
        "from tabulate import tabulate\n",
        "\n",
        "def print_tensor_details(details, tensor_type):\n",
        "    print(f\"{tensor_type} Tensor Details:\\n\")\n",
        "\n",
        "    # Prepare table data\n",
        "    table = []\n",
        "    for detail in details:\n",
        "        name = detail['name']\n",
        "        shape = str(detail['shape'])\n",
        "        dtype = str(detail['dtype']).replace(\"<class 'numpy.\", \"\").replace(\"'>\", \"\")\n",
        "        scale, zero_point = detail['quantization']\n",
        "        table.append([name, shape, dtype, scale, zero_point])\n",
        "\n",
        "    headers = [\"Name\", \"Shape\", \"Dtype\", \"Scale\", \"Zero Point\"]\n",
        "    print(tabulate(table, headers=headers, tablefmt=\"fancy_grid\"))\n",
        "    print()\n"
      ]
    },
    {
      "cell_type": "code",
      "execution_count": 42,
      "metadata": {
        "colab": {
          "base_uri": "https://localhost:8080/"
        },
        "id": "zb0_R1VabBjp",
        "outputId": "098be771-69bd-41b6-928b-b386a47417c7"
      },
      "outputs": [
        {
          "name": "stdout",
          "output_type": "stream",
          "text": [
            "=== Model Format Details ===\n",
            "\n",
            "Input Tensor Details:\n",
            "\n",
            "╒═══════════════════════════════════╤═══════════════╤═════════╤════════════╤══════════════╕\n",
            "│ Name                              │ Shape         │ Dtype   │      Scale │   Zero Point │\n",
            "╞═══════════════════════════════════╪═══════════════╪═════════╪════════════╪══════════════╡\n",
            "│ serving_default_keras_tensor_16:0 │ [ 1 96 96  1] │ int8    │ 0.00392157 │         -128 │\n",
            "╘═══════════════════════════════════╧═══════════════╧═════════╧════════════╧══════════════╛\n",
            "\n",
            "Output Tensor Details:\n",
            "\n",
            "╒═════════════════════════════╤═════════╤═════════╤════════════╤══════════════╕\n",
            "│ Name                        │ Shape   │ Dtype   │      Scale │   Zero Point │\n",
            "╞═════════════════════════════╪═════════╪═════════╪════════════╪══════════════╡\n",
            "│ StatefulPartitionedCall_1:0 │ [1 3]   │ int8    │ 0.00390625 │         -128 │\n",
            "╘═════════════════════════════╧═════════╧═════════╧════════════╧══════════════╛\n",
            "\n",
            "============================\n",
            "\n"
          ]
        }
      ],
      "source": [
        "input_details = interpreter.get_input_details()\n",
        "output_details = interpreter.get_output_details()\n",
        "\n",
        "print(\"=== Model Format Details ===\\n\")\n",
        "print_tensor_details(input_details, \"Input\")\n",
        "print_tensor_details(output_details, \"Output\")\n",
        "print(\"============================\\n\")"
      ]
    },
    {
      "cell_type": "code",
      "execution_count": 44,
      "metadata": {
        "colab": {
          "base_uri": "https://localhost:8080/"
        },
        "id": "4JGWQ-dilwJv",
        "outputId": "24642d11-e069-4269-9b23-cc8ab9bc83f5"
      },
      "outputs": [
        {
          "name": "stdout",
          "output_type": "stream",
          "text": [
            "+--------------+-----------+--------------------+\n",
            "| Modelo       | Tamaño    | Características    |\n",
            "+==============+===========+====================+\n",
            "| model.cpp    | 782.66 KB | N/A                |\n",
            "+--------------+-----------+--------------------+\n",
            "| model.tflite | 126.91 KB | Tensores: 18       |\n",
            "+--------------+-----------+--------------------+\n",
            "| model.keras  | 1.46 MB   | Parámetros: 124699 |\n",
            "+--------------+-----------+--------------------+\n"
          ]
        }
      ],
      "source": [
        "import os\n",
        "import tensorflow as tf\n",
        "from tabulate import tabulate\n",
        "\n",
        "def sizeof_fmt(num, suffix='B'):\n",
        "    # función para mostrar tamaños legibles\n",
        "    for unit in ['','K','M','G','T','P','E','Z']:\n",
        "        if abs(num) < 1024.0:\n",
        "            return f\"{num:3.2f} {unit}{suffix}\"\n",
        "        num /= 1024.0\n",
        "    return f\"{num:.2f} Y{suffix}\"\n",
        "\n",
        "# Rutas a tus modelos\n",
        "model_cpp_path = \"model.cpp\"\n",
        "model_tflite_path = \"model.tflite\"\n",
        "model_keras_path = \"rock_paper_scissors_model.keras\"\n",
        "\n",
        "# Obtener tamaños de archivos\n",
        "cpp_size = os.path.getsize(model_cpp_path) if os.path.exists(model_cpp_path) else None\n",
        "tflite_size = os.path.getsize(model_tflite_path) if os.path.exists(model_tflite_path) else None\n",
        "keras_size = os.path.getsize(model_keras_path) if os.path.exists(model_keras_path) else None\n",
        "\n",
        "# Obtener número de parámetros (solo para modelo Keras)\n",
        "keras_params = None\n",
        "if keras_size is not None:\n",
        "    model = tf.keras.models.load_model(model_keras_path)\n",
        "    keras_params = model.count_params()\n",
        "\n",
        "# Obtener detalles de modelo TFLite (número de tensores)\n",
        "tflite_tensors = None\n",
        "if tflite_size is not None:\n",
        "    interpreter = tf.lite.Interpreter(model_path=model_tflite_path)\n",
        "    interpreter.allocate_tensors()\n",
        "    tflite_tensors = len(interpreter.get_tensor_details())\n",
        "\n",
        "# Preparar datos para tabla\n",
        "table_data = [\n",
        "    [\"model.cpp\", sizeof_fmt(cpp_size) if cpp_size else \"No encontrado\", \"N/A\"],\n",
        "    [\"model.tflite\", sizeof_fmt(tflite_size) if tflite_size else \"No encontrado\", f\"Tensores: {tflite_tensors}\" if tflite_tensors else \"N/A\"],\n",
        "    [\"model.keras\", sizeof_fmt(keras_size) if keras_size else \"No encontrado\", f\"Parámetros: {keras_params}\" if keras_params else \"N/A\"],\n",
        "]\n",
        "\n",
        "# Mostrar tabla con tabulate\n",
        "print(tabulate(table_data, headers=[\"Modelo\", \"Tamaño\", \"Características\"], tablefmt=\"grid\"))\n",
        "\n"
      ]
    },
    {
      "cell_type": "markdown",
      "metadata": {
        "id": "Gk97s2ZAbBjp"
      },
      "source": [
        "# Conclusions\n",
        "\n",
        "In this practice, it was demonstrated how to convert a model from scratch into a final, useful application using TensorFlow Lite Micro. This notebook presents the complete workflow by applying previously acquired knowledge from past practices. The selected model in this case was designed to classify hand gestures for the rock-paper-scissors game.\n",
        "\n",
        "The creation of the model involved a simple convolutional neural network (CNN) architecture tailored for image classification using grayscale images of size (IMG_SIZE, IMG_SIZE, 1). The model consists of:\n",
        "\n",
        "1.  An input layer that accepts 2D grayscale images.\n",
        "\n",
        "2. Two consecutive pairs of Conv2D and MaxPooling2D layers. Each Conv2D layer applies 8 filters of size (3,3) with ReLU activation to extract spatial features such as edges or textures, while the MaxPooling2D layers reduce spatial dimensions to help minimize overfitting and computational cost.\n",
        "\n",
        "3. A Flatten layer to convert the 2D feature maps into a 1D vector.\n",
        "\n",
        "4. A Dense layer with 32 neurons and ReLU activation to learn complex patterns.\n",
        "\n",
        "5. A final Dense layer with 3 output neurons and softmax activation to produce a probability distribution over the three classes (rock, paper, scissors).\n",
        "\n",
        "Once trained, the model was converted to TensorFlow Lite and subsequently to TensorFlow Lite Micro format to run efficiently on low-resource embedded systems such as microcontrollers. This practice demonstrated the full pipeline—from designing a model from scratch to deploying it as a real-time embedded application.\n",
        "\n",
        "A comparison between the original and converted models revealed that the TensorFlow model achieved an accuracy of 79%, with balanced precision and recall across all three classes. However, after conversion, the TensorFlow Lite model's accuracy dropped to 64%, with a significant decrease in performance when classifying the \"paper\" gesture.\n",
        "\n",
        "The size of the models decreases significantly when converting from Keras (1.46 MB) to TFLite (126.91 KB), showing an effective optimization for deployment. The .cpp model (782.66 KB) is intermediate, possibly due to compiled overhead. Overall, TFLite offers the smallest and most efficient format for edge devices.\n",
        "\n",
        "Despite this, the TFLite model maintained a high recall for \"rock\" and \"scissors\", demonstrating that even simple models can be effectively adapted to embedded environments, with acceptable trade-offs in accuracy for the benefit of lightweight deployment."
      ]
    }
  ],
  "metadata": {
    "accelerator": "GPU",
    "colab": {
      "gpuType": "T4",
      "provenance": []
    },
    "kernelspec": {
      "display_name": "myenv",
      "language": "python",
      "name": "python3"
    },
    "language_info": {
      "codemirror_mode": {
        "name": "ipython",
        "version": 3
      },
      "file_extension": ".py",
      "mimetype": "text/x-python",
      "name": "python",
      "nbconvert_exporter": "python",
      "pygments_lexer": "ipython3",
      "version": "3.12.3"
    }
  },
  "nbformat": 4,
  "nbformat_minor": 0
}
