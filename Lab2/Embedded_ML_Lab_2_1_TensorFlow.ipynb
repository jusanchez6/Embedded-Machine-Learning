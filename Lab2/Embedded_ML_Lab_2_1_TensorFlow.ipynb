{
  "nbformat": 4,
  "nbformat_minor": 0,
  "metadata": {
    "colab": {
      "provenance": []
    },
    "kernelspec": {
      "name": "python3",
      "display_name": "Python 3"
    },
    "language_info": {
      "name": "python"
    }
  },
  "cells": [
    {
      "cell_type": "markdown",
      "source": [
        "# Embedded ML - Lab 2.1: TensorFlow"
      ],
      "metadata": {
        "id": "7SFBFiQlYlva"
      }
    },
    {
      "cell_type": "markdown",
      "source": [
        "In this lab you will learn the basics of one of the most developed and widely used ML libraries: TensorFlow. It implements many of the most important ML models and algorithms and has optimized back-ends for efficient execution on CPUs, GPUs, TPUs and other devices.\n",
        "\n",
        "In this lab you are given some helper functions but you are expected to write most of the code and be able to explain it at a high level of abstraction and also to modify any part of it. This lab is important because a significant part of the course will use TensorFlow."
      ],
      "metadata": {
        "id": "svldvvGfmN8q"
      }
    },
    {
      "cell_type": "markdown",
      "source": [
        "### Learning outcomes\n",
        "\n",
        "\n",
        "* Explain the basic concepts associated with TensorFlow\n",
        "* Use the basic workflow of TensorFlow to build a simple ML model\n",
        "* Implement simple dense networks with TensorFlow and Keras\n",
        "* Use some of the input handling functions of TensorFlow\n",
        "* Implement a simple CNN with TensorFlow and Keras\n",
        "* Implement transfer learning and fine tuning."
      ],
      "metadata": {
        "id": "lQK0RRRuY3rJ"
      }
    },
    {
      "cell_type": "markdown",
      "source": [
        "### TensorFlow workflow\n",
        "As in general with ML, in TensorFlow you have to get or preprocess the model inputs, train the model, run inference and evaluate results.\n",
        "\n",
        "Here you should use TensorFlow to build a dense 4-layer network to classify items in the FASHION MNIST dataset. Explore a few different hidden-layer sizes and report the accuracy achieved.\n",
        "\n",
        "Finally, investigate how to export the model to a file and write a separate code that is able to load that model and run inference again."
      ],
      "metadata": {
        "id": "l8wat6Kxul5R"
      }
    },
    {
      "cell_type": "code",
      "source": [
        "# Pre-process input dataset\n",
        "\n",
        "# Create the model\n",
        "\n",
        "# Compile the model\n",
        "\n",
        "# Train the model\n",
        "\n",
        "# Evaluate functional performance\n",
        "\n",
        "# Save the model to a file"
      ],
      "metadata": {
        "id": "JRV3aXGLTvE2"
      },
      "execution_count": null,
      "outputs": []
    },
    {
      "cell_type": "code",
      "source": [
        "# Instantiate model\n",
        "\n",
        "# Load the saved model\n",
        "\n",
        "# Pre-process test inputs\n",
        "\n",
        "# Verify functional performance"
      ],
      "metadata": {
        "id": "IMZicM-FUgBf"
      },
      "execution_count": null,
      "outputs": []
    },
    {
      "cell_type": "markdown",
      "source": [
        "### CNNs with TensorFlow\n",
        "Convolutional Neural Networks add another type of processing layers to extract image features that allow the model to indentify patterns for a much better accuracy results in computer vision applications.\n",
        "\n",
        "Implement a CNN model to classify the FASHION MNIST dataset and compare the accuracy results with the previous dense model. Also report a comparison of the model size measuring the saved model file size and through an analytical estimation."
      ],
      "metadata": {
        "id": "YpQD3Y7a_wFa"
      }
    },
    {
      "cell_type": "code",
      "source": [
        "# Pre-process input dataset\n",
        "\n",
        "# Create the CNN model\n",
        "\n",
        "# Compile the CNN model\n",
        "\n",
        "# Train the model\n",
        "\n",
        "# Evaluate functional performance\n",
        "\n",
        "# Save the model to a file"
      ],
      "metadata": {
        "id": "yFRKgGFxVyyY"
      },
      "execution_count": null,
      "outputs": []
    },
    {
      "cell_type": "markdown",
      "source": [
        "### Transfer learning and fine tuning\n",
        "When you want to build a model but do not have enough data or resources to train a network with the accuracy you need, it possible to use a model that has been pre-trained on a large dataset and fine tune it with the target (smaller) dataset to solve the target classification problem.\n",
        "\n",
        "Here you should use TensorFlow and Keras to download a pre-trained vision model from TensorFlow Hub (e.g. MobileNet V2), add a softmax classification layer and train it with a small subset of the Fashion MNIST dataset.\n",
        "\n",
        "Compare runtimes and Top-1 accuracy of the resulting model with the dense and convolutional models previously built.\n",
        "\n"
      ],
      "metadata": {
        "id": "gNHvzMLw056C"
      }
    },
    {
      "cell_type": "code",
      "source": [
        "# download the pre-trained model and create a Keras meta-layer\n",
        "\n",
        "# build a new model adding a softmax layer\n",
        "\n",
        "# compile and train the new model"
      ],
      "metadata": {
        "id": "TtRj0G-74XKY"
      },
      "execution_count": null,
      "outputs": []
    }
  ]
}