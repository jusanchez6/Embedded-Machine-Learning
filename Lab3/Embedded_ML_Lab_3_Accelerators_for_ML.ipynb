{
  "cells": [
    {
      "cell_type": "markdown",
      "metadata": {
        "id": "7SFBFiQlYlva"
      },
      "source": [
        "# Embedded ML - Lab 3: Accelerators for ML"
      ]
    },
    {
      "cell_type": "markdown",
      "metadata": {
        "id": "DTNEs3wxwHHO"
      },
      "source": [
        "Tensor Flow Lite is not only a vehicle to export models to be used in Tensor Flow Lite Micro. It's also an interpreter to run inference on devices that have less resources than servers or standard computers, such as mobile phones, drones, network cameras, etc. In this lab we will use TF Lite to implement an ML application on an embedded platform that features a GPU."
      ]
    },
    {
      "cell_type": "code",
      "execution_count": 19,
      "metadata": {},
      "outputs": [
        {
          "name": "stdout",
          "output_type": "stream",
          "text": [
            "Note: you may need to restart the kernel to use updated packages.\n",
            "Note: you may need to restart the kernel to use updated packages.\n",
            "Note: you may need to restart the kernel to use updated packages.\n",
            "Note: you may need to restart the kernel to use updated packages.\n",
            "Note: you may need to restart the kernel to use updated packages.\n",
            "Note: you may need to restart the kernel to use updated packages.\n",
            "Note: you may need to restart the kernel to use updated packages.\n",
            "Note: you may need to restart the kernel to use updated packages.\n",
            "Note: you may need to restart the kernel to use updated packages.\n"
          ]
        }
      ],
      "source": [
        "\n",
        "\n",
        "# To run this notebook, locally as a jupyter notebook, you need to install thhe proper packages.\n",
        "# follow the instructions below to set up your environment.\n",
        "\n",
        "\n",
        "# 1. Crea un entorno virtual usando conda o venv\n",
        "#    Por ejemplo, usando conda:\n",
        "#        conda create -n [myenv] python=3.8\n",
        "#        conda activate [myenv]\n",
        "#    O usando venv:\n",
        "#        python3 -m venv [myenv]\n",
        "#        source [myenv]/bin/activate\n",
        "#\n",
        "# 2. Activa el entorno virtual\n",
        "# 3. Instala los paquetes requeridos usando pip\n",
        "# 4. Ejecuta el notebook\n",
        "\n",
        "\n",
        "# Instala los paquetes requeridos:\n",
        "%pip install numpy -q\n",
        "%pip install pandas -q\n",
        "%pip install matplotlib -q\n",
        "%pip install tensorflow -q\n",
        "%pip install scikit-learn -q\n",
        "%pip install tensorflow-hub -q\n",
        "%pip install tensorflow-datasets -q\n",
        "%pip install tensorflow-estimator -q\n",
        "%pip install jinja2 -q"
      ]
    },
    {
      "cell_type": "markdown",
      "metadata": {
        "id": "lQK0RRRuY3rJ"
      },
      "source": [
        "### Learning outcomes\n",
        "\n",
        "\n",
        "* Explain the differences between a Tensor Flow and a TF Lite environment\n",
        "* Use the TF Lite API to implement an ML application on an embedded GPU\n",
        "* Understand the performance differences between TF and TF Lite\n",
        "* Understand the performance differences between embedded and higher-end GPUs\n",
        "* Use tools for execution time and memory measurement"
      ]
    },
    {
      "cell_type": "markdown",
      "metadata": {
        "id": "l8wat6Kxul5R"
      },
      "source": [
        "### Basic performance measurement"
      ]
    },
    {
      "cell_type": "markdown",
      "metadata": {
        "id": "A3LWGJXAzVF1"
      },
      "source": [
        "In this lab you'll be required to measure the execution **time** and **memory** consumption of certain code sequences. There are many ways of achieving this and you are encouraged to investigate yourself a bit what options are available and how they differ from each other.\n",
        "\n",
        "When measuring **execution time**, you should think and decide what is the piece of code you are really interested in measuring, and your conclusions must take that into account. Also notice that the shorter time the code takes, the less accurate can be the measurement because any other thing happening in the system will be a significant noise. Besides using more specialized libraries for accurate time measuring, one common trick you can use is to run a short piece of code many times in a loop, measuring the total loop time and diving by the number of iterations. For this lab you could start with the **time.time()** method of the time Python library."
      ]
    },
    {
      "cell_type": "code",
      "execution_count": 2,
      "metadata": {
        "colab": {
          "base_uri": "https://localhost:8080/"
        },
        "id": "xg5VXTVd1-VW",
        "outputId": "ea61fab5-c441-4b22-feae-b314488bc112"
      },
      "outputs": [
        {
          "name": "stdout",
          "output_type": "stream",
          "text": [
            "Execution time: 0.00017642974853515625 seconds\n"
          ]
        }
      ],
      "source": [
        "import time\n",
        "\n",
        "start = time.time()\n",
        "\n",
        "# Code to measure\n",
        "for i in range(1000):\n",
        "    _ = i * i\n",
        "\n",
        "end = time.time()\n",
        "print(\"Execution time:\", end - start, \"seconds\")\n"
      ]
    },
    {
      "cell_type": "markdown",
      "metadata": {
        "id": "MLEAxBRM2nSy"
      },
      "source": [
        "Important Note:\n",
        "time.time() has a low resolution, especially on Windows. For better precision, prefer:\n",
        "\n",
        "time.perf_counter() (high-resolution timer):"
      ]
    },
    {
      "cell_type": "code",
      "execution_count": 4,
      "metadata": {
        "colab": {
          "base_uri": "https://localhost:8080/"
        },
        "id": "OiWgDBHY2n67",
        "outputId": "f6f9e24d-59d1-4cc9-9666-c1956cfcce1f"
      },
      "outputs": [
        {
          "name": "stdout",
          "output_type": "stream",
          "text": [
            "Execution time: 0.00015639798948541284 seconds\n"
          ]
        }
      ],
      "source": [
        "import time\n",
        "\n",
        "start = time.perf_counter()\n",
        "\n",
        "# Code to measure\n",
        "for i in range(1000):\n",
        "    _ = i * i\n",
        "\n",
        "end = time.perf_counter()\n",
        "print(\"Execution time:\", end - start, \"seconds\")\n"
      ]
    },
    {
      "cell_type": "markdown",
      "metadata": {
        "id": "OmBR84sR2Mqv"
      },
      "source": [
        "With respect to memory consumption, different parts of a program require different amounts of memory. In this lab we are instrested in the maximum amount of memory, or **peak memory**, because it determines an absolute resource requirement that any device that aims to run the code must meet.\n",
        "\n",
        "For this lab you could start with the **memory_info()** method of psutil Python library."
      ]
    },
    {
      "cell_type": "code",
      "execution_count": 5,
      "metadata": {
        "colab": {
          "base_uri": "https://localhost:8080/"
        },
        "id": "KK8NEEGV3FWS",
        "outputId": "9d74315d-f79c-488f-f75d-479f4dd3c182"
      },
      "outputs": [
        {
          "name": "stdout",
          "output_type": "stream",
          "text": [
            "Memory increased by 383.38 MB\n"
          ]
        }
      ],
      "source": [
        "import psutil, os\n",
        "\n",
        "process = psutil.Process(os.getpid())\n",
        "before = process.memory_info().rss\n",
        "\n",
        "# Code block to measure\n",
        "a = [i for i in range(10_000_000)]\n",
        "\n",
        "after = process.memory_info().rss\n",
        "print(f\"Memory increased by {(after - before) / 1024 / 1024:.2f} MB\")\n"
      ]
    },
    {
      "cell_type": "markdown",
      "metadata": {
        "id": "h3zUOxUu3RxL"
      },
      "source": [
        "Option 2: Track Peak Memory with `tracemalloc` this function is designed to track Python memory allocations with fine granularity, including peak usage, and can show where allocations happen (file + line)."
      ]
    },
    {
      "cell_type": "code",
      "execution_count": 6,
      "metadata": {
        "colab": {
          "base_uri": "https://localhost:8080/"
        },
        "id": "cRdXghGe3SKL",
        "outputId": "692a5137-f5f1-4d31-b8b2-ce9afd4e54aa"
      },
      "outputs": [
        {
          "name": "stdout",
          "output_type": "stream",
          "text": [
            "Peak memory usage: 390.16 MB\n"
          ]
        }
      ],
      "source": [
        "import tracemalloc\n",
        "\n",
        "tracemalloc.start()\n",
        "\n",
        "# Code block to measure\n",
        "a = [i for i in range(10_000_000)]\n",
        "\n",
        "current, peak = tracemalloc.get_traced_memory()\n",
        "tracemalloc.stop()\n",
        "\n",
        "print(f\"Peak memory usage: {peak / 1024 / 1024:.2f} MB\")\n"
      ]
    },
    {
      "cell_type": "markdown",
      "metadata": {
        "id": "8PIpLax5zH7U"
      },
      "source": [
        "### TensorFlow Lite workflow"
      ]
    },
    {
      "cell_type": "markdown",
      "metadata": {
        "id": "P7yMmdHVGlBQ"
      },
      "source": [
        "We have already seen the TF Lite basic workflow in Lab 2.2. We will now use TF Lite on an embedded platform that includes a GPU device to understand its capabilities and limitations.\n",
        "\n",
        "Run the following code on the **Jetson Nano board** and on a **workstation GPU** and compare their **latencies** amd **peak memory** usage. The code **trains** and exports a TF Lite model for classifying the Fashion MNIST dataset."
      ]
    },
    {
      "cell_type": "code",
      "execution_count": 7,
      "metadata": {
        "colab": {
          "base_uri": "https://localhost:8080/"
        },
        "id": "T52CGZIKD9fL",
        "outputId": "7939a212-5a1f-47b1-db31-bdfc63160a13"
      },
      "outputs": [
        {
          "name": "stderr",
          "output_type": "stream",
          "text": [
            "2025-07-13 15:04:24.237427: I external/local_xla/xla/tsl/cuda/cudart_stub.cc:32] Could not find cuda drivers on your machine, GPU will not be used.\n",
            "2025-07-13 15:04:24.338765: I external/local_xla/xla/tsl/cuda/cudart_stub.cc:32] Could not find cuda drivers on your machine, GPU will not be used.\n",
            "2025-07-13 15:04:24.414963: E external/local_xla/xla/stream_executor/cuda/cuda_fft.cc:467] Unable to register cuFFT factory: Attempting to register factory for plugin cuFFT when one has already been registered\n",
            "WARNING: All log messages before absl::InitializeLog() is called are written to STDERR\n",
            "E0000 00:00:1752437064.484832   83308 cuda_dnn.cc:8579] Unable to register cuDNN factory: Attempting to register factory for plugin cuDNN when one has already been registered\n",
            "E0000 00:00:1752437064.513721   83308 cuda_blas.cc:1407] Unable to register cuBLAS factory: Attempting to register factory for plugin cuBLAS when one has already been registered\n",
            "W0000 00:00:1752437064.681934   83308 computation_placer.cc:177] computation placer already registered. Please check linkage and avoid linking the same target more than once.\n",
            "W0000 00:00:1752437064.681995   83308 computation_placer.cc:177] computation placer already registered. Please check linkage and avoid linking the same target more than once.\n",
            "W0000 00:00:1752437064.681997   83308 computation_placer.cc:177] computation placer already registered. Please check linkage and avoid linking the same target more than once.\n",
            "W0000 00:00:1752437064.681999   83308 computation_placer.cc:177] computation placer already registered. Please check linkage and avoid linking the same target more than once.\n",
            "2025-07-13 15:04:24.697712: I tensorflow/core/platform/cpu_feature_guard.cc:210] This TensorFlow binary is optimized to use available CPU instructions in performance-critical operations.\n",
            "To enable the following instructions: AVX2 FMA, in other operations, rebuild TensorFlow with the appropriate compiler flags.\n",
            "/home/julian-sanchez/Universidad/Embedded-Machine-Learning/Lab3/myenv/lib/python3.12/site-packages/keras/src/layers/reshaping/flatten.py:37: UserWarning: Do not pass an `input_shape`/`input_dim` argument to a layer. When using Sequential models, prefer using an `Input(shape)` object as the first layer in the model instead.\n",
            "  super().__init__(**kwargs)\n",
            "2025-07-13 15:04:29.378408: E external/local_xla/xla/stream_executor/cuda/cuda_platform.cc:51] failed call to cuInit: INTERNAL: CUDA error: Failed call to cuInit: UNKNOWN ERROR (303)\n"
          ]
        },
        {
          "name": "stdout",
          "output_type": "stream",
          "text": [
            "Epoch 1/2\n"
          ]
        },
        {
          "name": "stderr",
          "output_type": "stream",
          "text": [
            "2025-07-13 15:04:29.763018: W external/local_xla/xla/tsl/framework/cpu_allocator_impl.cc:83] Allocation of 188160000 exceeds 10% of free system memory.\n"
          ]
        },
        {
          "name": "stdout",
          "output_type": "stream",
          "text": [
            "\u001b[1m1875/1875\u001b[0m \u001b[32m━━━━━━━━━━━━━━━━━━━━\u001b[0m\u001b[37m\u001b[0m \u001b[1m5s\u001b[0m 2ms/step - accuracy: 0.7832 - loss: 0.6202\n",
            "Epoch 2/2\n",
            "\u001b[1m1875/1875\u001b[0m \u001b[32m━━━━━━━━━━━━━━━━━━━━\u001b[0m\u001b[37m\u001b[0m \u001b[1m4s\u001b[0m 2ms/step - accuracy: 0.8604 - loss: 0.3862\n",
            "\n",
            "Finished model training\n"
          ]
        }
      ],
      "source": [
        "import tensorflow as tf\n",
        "from tensorflow.keras import layers, models\n",
        "import numpy as np\n",
        "import matplotlib.pyplot as plt\n",
        "\n",
        "# Load the Fashion MNIST dataset\n",
        "fashion_mnist = tf.keras.datasets.fashion_mnist\n",
        "(train_images, train_labels), (test_images, test_labels) = fashion_mnist.load_data()\n",
        "\n",
        "# Normalize the images to the range [0, 1]\n",
        "train_images = train_images / 255.0\n",
        "test_images = test_images / 255.0\n",
        "\n",
        "# Class names for the Fashion MNIST dataset\n",
        "class_names = ['T-shirt/top', 'Trouser', 'Pullover', 'Dress', 'Coat',\n",
        "           \t'Sandal', 'Shirt', 'Sneaker', 'Bag', 'Ankle boot']\n",
        "\n",
        "model = models.Sequential([\n",
        "\tlayers.Flatten(input_shape=(28, 28)),\n",
        "\tlayers.Dense(128, activation='relu'),\n",
        "\tlayers.Dense(10, activation='softmax')\n",
        "])\n",
        "\n",
        "model.compile(optimizer='adam',\n",
        "          \tloss='sparse_categorical_crossentropy',\n",
        "          \tmetrics=['accuracy'])\n",
        "\n",
        "model.fit(train_images, train_labels, epochs=2)\n",
        "\n",
        "print('\\nFinished model training')"
      ]
    },
    {
      "cell_type": "code",
      "execution_count": 8,
      "metadata": {
        "colab": {
          "base_uri": "https://localhost:8080/"
        },
        "id": "1AEP7_dDy6ZH",
        "outputId": "ef5333b4-eb6e-4dbd-f253-f919b1e2448f"
      },
      "outputs": [
        {
          "name": "stderr",
          "output_type": "stream",
          "text": [
            "2025-07-13 15:04:43.103382: W external/local_xla/xla/tsl/framework/cpu_allocator_impl.cc:83] Allocation of 31360000 exceeds 10% of free system memory.\n"
          ]
        },
        {
          "name": "stdout",
          "output_type": "stream",
          "text": [
            "313/313 - 1s - 2ms/step - accuracy: 0.8604 - loss: 0.3906\n",
            "\n",
            "Test accuracy: 0.8604000210762024\n"
          ]
        }
      ],
      "source": [
        "# test model accuracy\n",
        "test_loss, test_acc = model.evaluate(test_images, test_labels, verbose=2)\n",
        "print('\\nTest accuracy:', test_acc)\n",
        "\n",
        "# export model to a keras file\n",
        "model.save(\"fmnist.keras\")"
      ]
    },
    {
      "cell_type": "code",
      "execution_count": 9,
      "metadata": {
        "id": "b6WvSyozdM2r"
      },
      "outputs": [],
      "source": [
        "# load model from a keras file\n",
        "from keras.models import load_model\n",
        "\n",
        "model = load_model(\"fmnist.keras\")"
      ]
    },
    {
      "cell_type": "code",
      "execution_count": 10,
      "metadata": {
        "colab": {
          "base_uri": "https://localhost:8080/"
        },
        "id": "IMZicM-FUgBf",
        "outputId": "ccafcf94-bd8d-4c52-f312-0a14fc09c57e"
      },
      "outputs": [
        {
          "name": "stdout",
          "output_type": "stream",
          "text": [
            "INFO:tensorflow:Assets written to: /tmp/tmp0h5ka20e/assets\n"
          ]
        },
        {
          "name": "stderr",
          "output_type": "stream",
          "text": [
            "INFO:tensorflow:Assets written to: /tmp/tmp0h5ka20e/assets\n"
          ]
        },
        {
          "name": "stdout",
          "output_type": "stream",
          "text": [
            "Saved artifact at '/tmp/tmp0h5ka20e'. The following endpoints are available:\n",
            "\n",
            "* Endpoint 'serve'\n",
            "  args_0 (POSITIONAL_ONLY): TensorSpec(shape=(None, 28, 28), dtype=tf.float32, name='input_layer')\n",
            "Output Type:\n",
            "  TensorSpec(shape=(None, 10), dtype=tf.float32, name=None)\n",
            "Captures:\n",
            "  137905161447056: TensorSpec(shape=(), dtype=tf.resource, name=None)\n",
            "  137905161447248: TensorSpec(shape=(), dtype=tf.resource, name=None)\n",
            "  137901951090320: TensorSpec(shape=(), dtype=tf.resource, name=None)\n",
            "  137901951086480: TensorSpec(shape=(), dtype=tf.resource, name=None)\n"
          ]
        },
        {
          "name": "stderr",
          "output_type": "stream",
          "text": [
            "WARNING: All log messages before absl::InitializeLog() is called are written to STDERR\n",
            "W0000 00:00:1752437117.106114   83308 tf_tfl_flatbuffer_helpers.cc:365] Ignored output_format.\n",
            "W0000 00:00:1752437117.106141   83308 tf_tfl_flatbuffer_helpers.cc:368] Ignored drop_control_dependency.\n",
            "2025-07-13 15:05:17.106931: I tensorflow/cc/saved_model/reader.cc:83] Reading SavedModel from: /tmp/tmp0h5ka20e\n",
            "2025-07-13 15:05:17.107489: I tensorflow/cc/saved_model/reader.cc:52] Reading meta graph with tags { serve }\n",
            "2025-07-13 15:05:17.107507: I tensorflow/cc/saved_model/reader.cc:147] Reading SavedModel debug info (if present) from: /tmp/tmp0h5ka20e\n",
            "I0000 00:00:1752437117.111833   83308 mlir_graph_optimization_pass.cc:425] MLIR V1 optimization pass is not enabled\n",
            "2025-07-13 15:05:17.112749: I tensorflow/cc/saved_model/loader.cc:236] Restoring SavedModel bundle.\n",
            "2025-07-13 15:05:17.134757: I tensorflow/cc/saved_model/loader.cc:220] Running initialization op on SavedModel bundle at path: /tmp/tmp0h5ka20e\n",
            "2025-07-13 15:05:17.141841: I tensorflow/cc/saved_model/loader.cc:471] SavedModel load for tags { serve }; Status: success: OK. Took 34915 microseconds.\n",
            "2025-07-13 15:05:17.174755: I tensorflow/compiler/mlir/tensorflow/utils/dump_mlir_util.cc:269] disabling MLIR crash reproducer, set env var `MLIR_CRASH_REPRODUCER_DIRECTORY` to enable.\n"
          ]
        },
        {
          "data": {
            "text/plain": [
              "409012"
            ]
          },
          "execution_count": 10,
          "metadata": {},
          "output_type": "execute_result"
        }
      ],
      "source": [
        "# convert model to TF Lite\n",
        "converter = tf.lite.TFLiteConverter.from_keras_model(model)\n",
        "tflite_model = converter.convert()\n",
        "\n",
        "# save converted model to a file\n",
        "import pathlib\n",
        "tflite_model_file = pathlib.Path('fmnist.tflite')\n",
        "tflite_model_file.write_bytes(tflite_model)"
      ]
    },
    {
      "cell_type": "markdown",
      "metadata": {
        "id": "b7a03KRIEED7"
      },
      "source": [
        "Verify that the model files were exported and use them to run **inference**, both on the Jetson Nano and on a **workstation GPU** using **Tensor Flow**. Contrast **latency** and **peak memory** results too."
      ]
    },
    {
      "cell_type": "code",
      "execution_count": null,
      "metadata": {
        "colab": {
          "base_uri": "https://localhost:8080/",
          "height": 1000
        },
        "id": "GHA8KLonFEfn",
        "outputId": "0a06d7b1-84f3-4ec3-c13f-68a78b07eb36"
      },
      "outputs": [
        {
          "name": "stdout",
          "output_type": "stream",
          "text": [
            "\u001b[1m 42/313\u001b[0m \u001b[32m━━\u001b[0m\u001b[37m━━━━━━━━━━━━━━━━━━\u001b[0m \u001b[1m0s\u001b[0m 2ms/step"
          ]
        },
        {
          "name": "stderr",
          "output_type": "stream",
          "text": [
            "2025-07-13 15:05:23.808392: W external/local_xla/xla/tsl/framework/cpu_allocator_impl.cc:83] Allocation of 31360000 exceeds 10% of free system memory.\n"
          ]
        },
        {
          "name": "stdout",
          "output_type": "stream",
          "text": [
            "\u001b[1m313/313\u001b[0m \u001b[32m━━━━━━━━━━━━━━━━━━━━\u001b[0m\u001b[37m\u001b[0m \u001b[1m1s\u001b[0m 2ms/step\n",
            "Latency: 1099.64 ms\n",
            "Peak memory: 59.94 MB\n"
          ]
        },
        {
          "data": {
            "image/png": "[encoded data removed]",
            "text/plain": [
              "<Figure size 1200x1000 with 30 Axes>"
            ]
          },
          "metadata": {},
          "output_type": "display_data"
        },
        {
          "data": {
            "text/plain": [
              "<Figure size 640x480 with 0 Axes>"
            ]
          },
          "metadata": {},
          "output_type": "display_data"
        }
      ],
      "source": [
        "import time\n",
        "import tracemalloc\n",
        "import numpy as np\n",
        "import matplotlib.pyplot as plt\n",
        "\n",
        "# --- Measure latency and peak memory ---\n",
        "tracemalloc.start()\n",
        "start_time = time.perf_counter()\n",
        "\n",
        "predictions = model.predict(test_images)\n",
        "\n",
        "end_time = time.perf_counter()\n",
        "current, peak = tracemalloc.get_traced_memory()\n",
        "tracemalloc.stop()\n",
        "\n",
        "latency_ms = (end_time - start_time) * 1000\n",
        "peak_memory_mb = peak / (1024 * 1024)\n",
        "\n",
        "print(f\"Latency: {latency_ms:.2f} ms\")\n",
        "print(f\"Peak memory: {peak_memory_mb:.2f} MB\")\n",
        "\n",
        "# --- Function to plot the image and its prediction ---\n",
        "def plot_image(i, predictions_array, true_label, img):\n",
        "\ttrue_label, img = true_label[i], img[i]\n",
        "\tplt.grid(False)\n",
        "\tplt.xticks([])\n",
        "\tplt.yticks([])\n",
        "\tplt.imshow(img, cmap=plt.cm.binary)\n",
        "\tpredicted_label = np.argmax(predictions_array)\n",
        "\tcolor = 'blue' if predicted_label == true_label else 'red'\n",
        "\tplt.xlabel(f\"{class_names[predicted_label]} ({class_names[true_label]})\", color=color)\n",
        "\n",
        "def plot_value_array(i, predictions_array, true_label):\n",
        "\ttrue_label = true_label[i]\n",
        "\tplt.grid(False)\n",
        "\tplt.xticks(range(10))\n",
        "\tplt.yticks([])\n",
        "\tthisplot = plt.bar(range(10), predictions_array, color=\"#777777\")\n",
        "\tplt.ylim([0, 1])\n",
        "\tpredicted_label = np.argmax(predictions_array)\n",
        "\tthisplot[predicted_label].set_color('red')\n",
        "\tthisplot[true_label].set_color('blue')\n",
        "\n",
        "# --- Plot predictions for first few test images ---\n",
        "num_rows = 5\n",
        "num_cols = 3\n",
        "num_images = num_rows * num_cols\n",
        "plt.figure(figsize=(2 * 2 * num_cols, 2 * num_rows))\n",
        "for i in range(num_images):\n",
        "\tplt.subplot(num_rows, 2 * num_cols, 2 * i + 1)\n",
        "\tplot_image(i, predictions[i], test_labels, test_images)\n",
        "\tplt.subplot(num_rows, 2 * num_cols, 2 * i + 2)\n",
        "\tplot_value_array(i, predictions[i], test_labels)\n",
        "plt.tight_layout()\n",
        "plt.show()\n",
        "\n",
        "plt.tight_layout()\n",
        "plt.show()\n"
      ]
    },
    {
      "cell_type": "code",
      "execution_count": null,
      "metadata": {},
      "outputs": [
        {
          "data": {
            "text/html": [
              "<style type=\"text/css\">\n",
              "#T_7f20f th {\n",
              "  background-color: #333333;\n",
              "  color: #ffffff;\n",
              "  font-weight: bold;\n",
              "  border: 1px solid #444;\n",
              "}\n",
              "#T_7f20f caption {\n",
              "  caption-side: top;\n",
              "  color: #ffffff;\n",
              "  font-size: 16px;\n",
              "  font-weight: bold;\n",
              "}\n",
              "#T_7f20f_row0_col0, #T_7f20f_row0_col1, #T_7f20f_row0_col2, #T_7f20f_row0_col3, #T_7f20f_row0_col4, #T_7f20f_row2_col0, #T_7f20f_row2_col1, #T_7f20f_row2_col2, #T_7f20f_row2_col3, #T_7f20f_row2_col4 {\n",
              "  background-color: #1e1e1e;\n",
              "  color: #ffffff;\n",
              "}\n",
              "#T_7f20f_row1_col0, #T_7f20f_row1_col1, #T_7f20f_row1_col2, #T_7f20f_row1_col3, #T_7f20f_row1_col4, #T_7f20f_row3_col0, #T_7f20f_row3_col1, #T_7f20f_row3_col2, #T_7f20f_row3_col3, #T_7f20f_row3_col4 {\n",
              "  background-color: #004d40;\n",
              "  color: #ffffff;\n",
              "}\n",
              "</style>\n",
              "<table id=\"T_7f20f\">\n",
              "  <caption>🧪 TFLite Inference Comparison</caption>\n",
              "  <thead>\n",
              "    <tr>\n",
              "      <th class=\"blank level0\" >&nbsp;</th>\n",
              "      <th id=\"T_7f20f_level0_col0\" class=\"col_heading level0 col0\" >Platform</th>\n",
              "      <th id=\"T_7f20f_level0_col1\" class=\"col_heading level0 col1\" >Inference Type</th>\n",
              "      <th id=\"T_7f20f_level0_col2\" class=\"col_heading level0 col2\" >Latency (ms)</th>\n",
              "      <th id=\"T_7f20f_level0_col3\" class=\"col_heading level0 col3\" >Peak Memory (MB)</th>\n",
              "      <th id=\"T_7f20f_level0_col4\" class=\"col_heading level0 col4\" >Notes</th>\n",
              "    </tr>\n",
              "  </thead>\n",
              "  <tbody>\n",
              "    <tr>\n",
              "      <th id=\"T_7f20f_level0_row0\" class=\"row_heading level0 row0\" >0</th>\n",
              "      <td id=\"T_7f20f_row0_col0\" class=\"data row0 col0\" >Jetson Nano</td>\n",
              "      <td id=\"T_7f20f_row0_col1\" class=\"data row0 col1\" >TensoFlow (CPU)</td>\n",
              "      <td id=\"T_7f20f_row0_col2\" class=\"data row0 col2\" >6.300000</td>\n",
              "      <td id=\"T_7f20f_row0_col3\" class=\"data row0 col3\" >22.10</td>\n",
              "      <td id=\"T_7f20f_row0_col4\" class=\"data row0 col4\" >Quad-core ARM Cortex-A57</td>\n",
              "    </tr>\n",
              "    <tr>\n",
              "      <th id=\"T_7f20f_level0_row1\" class=\"row_heading level0 row1\" >1</th>\n",
              "      <td id=\"T_7f20f_row1_col0\" class=\"data row1 col0\" >Jetson Nano</td>\n",
              "      <td id=\"T_7f20f_row1_col1\" class=\"data row1 col1\" >TensorFlow (GPU)</td>\n",
              "      <td id=\"T_7f20f_row1_col2\" class=\"data row1 col2\" >1059.000000</td>\n",
              "      <td id=\"T_7f20f_row1_col3\" class=\"data row1 col3\" >0.32</td>\n",
              "      <td id=\"T_7f20f_row1_col4\" class=\"data row1 col4\" >128-core NVIDIA Maxwell</td>\n",
              "    </tr>\n",
              "    <tr>\n",
              "      <th id=\"T_7f20f_level0_row2\" class=\"row_heading level0 row2\" >2</th>\n",
              "      <td id=\"T_7f20f_row2_col0\" class=\"data row2 col0\" >Workstation</td>\n",
              "      <td id=\"T_7f20f_row2_col1\" class=\"data row2 col1\" >TensorFlow (CPU)</td>\n",
              "      <td id=\"T_7f20f_row2_col2\" class=\"data row2 col2\" >1265.230000</td>\n",
              "      <td id=\"T_7f20f_row2_col3\" class=\"data row2 col3\" >59.95</td>\n",
              "      <td id=\"T_7f20f_row2_col4\" class=\"data row2 col4\" >Intel Core i5-8300H</td>\n",
              "    </tr>\n",
              "    <tr>\n",
              "      <th id=\"T_7f20f_level0_row3\" class=\"row_heading level0 row3\" >3</th>\n",
              "      <td id=\"T_7f20f_row3_col0\" class=\"data row3 col0\" >Workstation</td>\n",
              "      <td id=\"T_7f20f_row3_col1\" class=\"data row3 col1\" >TensorFlow (GPU)</td>\n",
              "      <td id=\"T_7f20f_row3_col2\" class=\"data row3 col2\" >1620.180000</td>\n",
              "      <td id=\"T_7f20f_row3_col3\" class=\"data row3 col3\" >59.94</td>\n",
              "      <td id=\"T_7f20f_row3_col4\" class=\"data row3 col4\" >NVIDIA GeForce GTX 1050</td>\n",
              "    </tr>\n",
              "  </tbody>\n",
              "</table>\n"
            ],
            "text/plain": [
              "<pandas.io.formats.style.Styler at 0x7d6b9066aa50>"
            ]
          },
          "execution_count": 26,
          "metadata": {},
          "output_type": "execute_result"
        }
      ],
      "source": [
        "import pandas as pd\n",
        "\n",
        "# Define the data\n",
        "data = {\n",
        "    \"Platform\": [\"Jetson Nano\", \"Jetson Nano\", \"Workstation\", \"Workstation\"],\n",
        "    \"Inference Type\": [\"TensoFlow (CPU)\", \"TensorFlow (GPU)\", \"TensorFlow (CPU)\", \"TensorFlow (GPU)\"],\n",
        "    \"Latency (ms)\": [-, -, 1265.23, 1620.18],\n",
        "    \"Peak Memory (MB)\": [-, -, 59.95, 59.94],\n",
        "    \"Notes\": [\n",
        "        \"Quad-core ARM Cortex-A57\",\n",
        "        \"128-core NVIDIA Maxwell\",\n",
        "        \"Intel Core i5-8300H\",\n",
        "        \"NVIDIA GeForce GTX 1050\"\n",
        "    ]\n",
        "}\n",
        "\n",
        "# Create DataFrame\n",
        "df = pd.DataFrame(data)\n",
        "\n",
        "# Style function for GPU rows (subtle dark green)\n",
        "def highlight_gpu(row):\n",
        "    if 'GPU' in row['Inference Type']:\n",
        "        return ['background-color: #004d40; color: #ffffff'] * len(row)\n",
        "    else:\n",
        "        return ['background-color: #1e1e1e; color: #ffffff'] * len(row)\n",
        "\n",
        "# Style the DataFrame\n",
        "styled_df = df.style \\\n",
        "    .set_caption(\"🧪 TFLite Inference Comparison\") \\\n",
        "    .format({\"Avg Inference Time (ms)\": \"{:.2f}\", \"Peak Memory (MB)\": \"{:.2f}\"}) \\\n",
        "    .apply(highlight_gpu, axis=1) \\\n",
        "    .set_table_styles([\n",
        "        {'selector': 'th', 'props': [('background-color', '#333333'),\n",
        "                                     ('color', '#ffffff'),\n",
        "                                     ('font-weight', 'bold'),\n",
        "                                     ('border', '1px solid #444')]},\n",
        "        {'selector': 'caption', 'props': [('caption-side', 'top'),\n",
        "                                          ('color', '#ffffff'),\n",
        "                                          ('font-size', '16px'),\n",
        "                                          ('font-weight', 'bold')]}\n",
        "    ])\n",
        " \n",
        "# Display styled DataFrame\n",
        "styled_df\n"
      ]
    },
    {
      "cell_type": "markdown",
      "metadata": {
        "id": "ZJLFW--THEnz"
      },
      "source": [
        "Finally, run **inference** with **TF Lite** on both platforms and compare with the previous execution's **latency** and **peak memory** usage."
      ]
    },
    {
      "cell_type": "code",
      "execution_count": 23,
      "metadata": {
        "colab": {
          "base_uri": "https://localhost:8080/"
        },
        "id": "2212lAtBHXt_",
        "outputId": "150c1a98-0f00-42b7-8565-fe2acba96b29"
      },
      "outputs": [
        {
          "name": "stdout",
          "output_type": "stream",
          "text": [
            "\n",
            "TFLite Inference Results\n",
            "  Predicted class: 9\n",
            "  Average Latency: 0.01 ms\n",
            "  Peak Memory Usage: 0.02 MB\n"
          ]
        }
      ],
      "source": [
        "import time\n",
        "import tracemalloc\n",
        "import numpy as np\n",
        "import tensorflow as tf\n",
        "from tensorflow.keras.datasets import fashion_mnist\n",
        "import matplotlib.pyplot as plt\n",
        "\n",
        "# --- Load and preprocess data ---\n",
        "(_, _), (test_images, test_labels) = fashion_mnist.load_data()\n",
        "test_images = test_images.astype(np.float32) / 255.0\n",
        "input_image = np.expand_dims(test_images[0], axis=0)  # Use just one image for inference\n",
        "\n",
        "# --- Load TFLite model and allocate tensors ---\n",
        "tflite_model_file = \"fmnist\"\n",
        "interpreter = tf.lite.Interpreter(model_path=tflite_model_file + \".tflite\")\n",
        "interpreter.allocate_tensors()\n",
        "\n",
        "input_details = interpreter.get_input_details()\n",
        "output_details = interpreter.get_output_details()\n",
        "\n",
        "# --- Measure latency and memory ---\n",
        "n_runs = 1000\n",
        "tracemalloc.start()\n",
        "start = time.perf_counter()\n",
        "\n",
        "for _ in range(n_runs):\n",
        "    interpreter.set_tensor(input_details[0]['index'], input_image)\n",
        "    interpreter.invoke()\n",
        "    _ = interpreter.get_tensor(output_details[0]['index'])\n",
        "\n",
        "end = time.perf_counter()\n",
        "current, peak = tracemalloc.get_traced_memory()\n",
        "tracemalloc.stop()\n",
        "\n",
        "avg_latency_ms = (end - start) / n_runs * 1000\n",
        "peak_memory_mb = peak / (1024 * 1024)\n",
        "\n",
        "# --- Get prediction for reporting ---\n",
        "interpreter.set_tensor(input_details[0]['index'], input_image)\n",
        "interpreter.invoke()\n",
        "output_data = interpreter.get_tensor(output_details[0]['index'])\n",
        "predicted_class = np.argmax(output_data)\n",
        "\n",
        "print(f\"\\nTFLite Inference Results\")\n",
        "print(f\"  Predicted class: {predicted_class}\")\n",
        "print(f\"  Average Latency: {avg_latency_ms:.2f} ms\")\n",
        "print(f\"  Peak Memory Usage: {peak_memory_mb:.2f} MB\")\n"
      ]
    },
    {
      "cell_type": "markdown",
      "metadata": {
        "id": "dYmxaV2fuYgv"
      },
      "source": [
        "Consolidate all results in one or more tables or plots and write down your conclusions."
      ]
    },
    {
      "cell_type": "code",
      "execution_count": 25,
      "metadata": {
        "colab": {
          "base_uri": "https://localhost:8080/",
          "height": 198
        },
        "id": "inEvybg_5XRJ",
        "outputId": "bc95fdf2-9b7d-4403-fa5d-df73cb8313dc"
      },
      "outputs": [
        {
          "data": {
            "text/html": [
              "<style type=\"text/css\">\n",
              "#T_665e6 th {\n",
              "  background-color: #333333;\n",
              "  color: #ffffff;\n",
              "  font-weight: bold;\n",
              "  border: 1px solid #444;\n",
              "}\n",
              "#T_665e6 caption {\n",
              "  caption-side: top;\n",
              "  color: #ffffff;\n",
              "  font-size: 16px;\n",
              "  font-weight: bold;\n",
              "}\n",
              "#T_665e6_row0_col0, #T_665e6_row0_col1, #T_665e6_row0_col2, #T_665e6_row0_col3, #T_665e6_row0_col4, #T_665e6_row2_col0, #T_665e6_row2_col1, #T_665e6_row2_col2, #T_665e6_row2_col3, #T_665e6_row2_col4 {\n",
              "  background-color: #1e1e1e;\n",
              "  color: #ffffff;\n",
              "}\n",
              "#T_665e6_row1_col0, #T_665e6_row1_col1, #T_665e6_row1_col2, #T_665e6_row1_col3, #T_665e6_row1_col4, #T_665e6_row3_col0, #T_665e6_row3_col1, #T_665e6_row3_col2, #T_665e6_row3_col3, #T_665e6_row3_col4 {\n",
              "  background-color: #004d40;\n",
              "  color: #ffffff;\n",
              "}\n",
              "</style>\n",
              "<table id=\"T_665e6\">\n",
              "  <caption>🧪 TFLite Inference Comparison</caption>\n",
              "  <thead>\n",
              "    <tr>\n",
              "      <th class=\"blank level0\" >&nbsp;</th>\n",
              "      <th id=\"T_665e6_level0_col0\" class=\"col_heading level0 col0\" >Platform</th>\n",
              "      <th id=\"T_665e6_level0_col1\" class=\"col_heading level0 col1\" >Inference Type</th>\n",
              "      <th id=\"T_665e6_level0_col2\" class=\"col_heading level0 col2\" >Avg Inference Time (ms)</th>\n",
              "      <th id=\"T_665e6_level0_col3\" class=\"col_heading level0 col3\" >Peak Memory (MB)</th>\n",
              "      <th id=\"T_665e6_level0_col4\" class=\"col_heading level0 col4\" >Notes</th>\n",
              "    </tr>\n",
              "  </thead>\n",
              "  <tbody>\n",
              "    <tr>\n",
              "      <th id=\"T_665e6_level0_row0\" class=\"row_heading level0 row0\" >0</th>\n",
              "      <td id=\"T_665e6_row0_col0\" class=\"data row0 col0\" >Jetson Nano</td>\n",
              "      <td id=\"T_665e6_row0_col1\" class=\"data row0 col1\" >TFLite (CPU)</td>\n",
              "      <td id=\"T_665e6_row0_col2\" class=\"data row0 col2\" >6.30</td>\n",
              "      <td id=\"T_665e6_row0_col3\" class=\"data row0 col3\" >22.10</td>\n",
              "      <td id=\"T_665e6_row0_col4\" class=\"data row0 col4\" >Quad-core ARM Cortex-A57</td>\n",
              "    </tr>\n",
              "    <tr>\n",
              "      <th id=\"T_665e6_level0_row1\" class=\"row_heading level0 row1\" >1</th>\n",
              "      <td id=\"T_665e6_row1_col0\" class=\"data row1 col0\" >Jetson Nano</td>\n",
              "      <td id=\"T_665e6_row1_col1\" class=\"data row1 col1\" >TFLite (GPU)</td>\n",
              "      <td id=\"T_665e6_row1_col2\" class=\"data row1 col2\" >10059.00</td>\n",
              "      <td id=\"T_665e6_row1_col3\" class=\"data row1 col3\" >0.32</td>\n",
              "      <td id=\"T_665e6_row1_col4\" class=\"data row1 col4\" >128-core NVIDIA Maxwell</td>\n",
              "    </tr>\n",
              "    <tr>\n",
              "      <th id=\"T_665e6_level0_row2\" class=\"row_heading level0 row2\" >2</th>\n",
              "      <td id=\"T_665e6_row2_col0\" class=\"data row2 col0\" >Workstation</td>\n",
              "      <td id=\"T_665e6_row2_col1\" class=\"data row2 col1\" >TFLite (CPU)</td>\n",
              "      <td id=\"T_665e6_row2_col2\" class=\"data row2 col2\" >0.02</td>\n",
              "      <td id=\"T_665e6_row2_col3\" class=\"data row2 col3\" >0.02</td>\n",
              "      <td id=\"T_665e6_row2_col4\" class=\"data row2 col4\" >Intel Core i5-8300H</td>\n",
              "    </tr>\n",
              "    <tr>\n",
              "      <th id=\"T_665e6_level0_row3\" class=\"row_heading level0 row3\" >3</th>\n",
              "      <td id=\"T_665e6_row3_col0\" class=\"data row3 col0\" >Workstation</td>\n",
              "      <td id=\"T_665e6_row3_col1\" class=\"data row3 col1\" >TFLite (GPU)</td>\n",
              "      <td id=\"T_665e6_row3_col2\" class=\"data row3 col2\" >0.02</td>\n",
              "      <td id=\"T_665e6_row3_col3\" class=\"data row3 col3\" >0.01</td>\n",
              "      <td id=\"T_665e6_row3_col4\" class=\"data row3 col4\" >NVIDIA GeForce GTX 1050</td>\n",
              "    </tr>\n",
              "  </tbody>\n",
              "</table>\n"
            ],
            "text/plain": [
              "<pandas.io.formats.style.Styler at 0x7d6b907ef6e0>"
            ]
          },
          "execution_count": 25,
          "metadata": {},
          "output_type": "execute_result"
        }
      ],
      "source": [
        "import pandas as pd\n",
        "\n",
        "# Define the data\n",
        "data = {\n",
        "    \"Platform\": [\"Jetson Nano\", \"Jetson Nano\", \"Workstation\", \"Workstation\"],\n",
        "    \"Inference Type\": [\"TFLite (CPU)\", \"TFLite (GPU)\", \"TFLite (CPU)\", \"TFLite (GPU)\"],\n",
        "    \"Avg Inference Time (ms)\": [6.3, 10059, 0.02, 0.02],\n",
        "    \"Peak Memory (MB)\": [22.1, 0.321, 0.02, 0.01],\n",
        "    \"Notes\": [\n",
        "        \"Quad-core ARM Cortex-A57\",\n",
        "        \"128-core NVIDIA Maxwell\",\n",
        "        \"Intel Core i5-8300H\",\n",
        "        \"NVIDIA GeForce GTX 1050\"\n",
        "    ]\n",
        "}\n",
        "\n",
        "# Create DataFrame\n",
        "df = pd.DataFrame(data)\n",
        "\n",
        "# Style function for GPU rows (subtle dark green)\n",
        "def highlight_gpu(row):\n",
        "    if 'GPU' in row['Inference Type']:\n",
        "        return ['background-color: #004d40; color: #ffffff'] * len(row)\n",
        "    else:\n",
        "        return ['background-color: #1e1e1e; color: #ffffff'] * len(row)\n",
        "\n",
        "# Style the DataFrame\n",
        "styled_df = df.style \\\n",
        "    .set_caption(\"🧪 TFLite Inference Comparison\") \\\n",
        "    .format({\"Avg Inference Time (ms)\": \"{:.2f}\", \"Peak Memory (MB)\": \"{:.2f}\"}) \\\n",
        "    .apply(highlight_gpu, axis=1) \\\n",
        "    .set_table_styles([\n",
        "        {'selector': 'th', 'props': [('background-color', '#333333'),\n",
        "                                     ('color', '#ffffff'),\n",
        "                                     ('font-weight', 'bold'),\n",
        "                                     ('border', '1px solid #444')]},\n",
        "        {'selector': 'caption', 'props': [('caption-side', 'top'),\n",
        "                                          ('color', '#ffffff'),\n",
        "                                          ('font-size', '16px'),\n",
        "                                          ('font-weight', 'bold')]}\n",
        "    ])\n",
        "\n",
        "# Display styled DataFrame\n",
        "styled_df\n"
      ]
    },
    {
      "cell_type": "code",
      "execution_count": null,
      "metadata": {
        "colab": {
          "base_uri": "https://localhost:8080/",
          "height": 487
        },
        "id": "5E3631uP5EU6",
        "outputId": "66d8caa3-11b6-48f8-b411-033fc3d3982c"
      },
      "outputs": [
        {
          "data": {
            "image/png": "[encoded data removed]",
            "text/plain": [
              "<Figure size 640x480 with 1 Axes>"
            ]
          },
          "metadata": {},
          "output_type": "display_data"
        }
      ],
      "source": [
        "import matplotlib.pyplot as plt\n",
        "\n",
        "platforms = ['Jetson CPU', 'Jetson GPU', 'Workstation CPU', 'Workstation GPU']\n",
        "latencies = [6.3, 3.5, 2.1, 0.9]  # Replace with your actual times (ms)\n",
        "\n",
        "plt.bar(platforms, latencies, color='skyblue')\n",
        "plt.ylabel('Average Inference Time (ms)')\n",
        "plt.title('TFLite Inference Time Comparison')\n",
        "plt.grid(True, axis='y')\n",
        "plt.tight_layout()\n",
        "plt.show()\n"
      ]
    },
    {
      "cell_type": "code",
      "execution_count": null,
      "metadata": {
        "colab": {
          "base_uri": "https://localhost:8080/",
          "height": 487
        },
        "id": "qZlugQzW5KFp",
        "outputId": "d42dc377-734e-47a9-91bd-1d211678a882"
      },
      "outputs": [
        {
          "data": {
            "image/png": "[encoded data removed]",
            "text/plain": [
              "<Figure size 640x480 with 1 Axes>"
            ]
          },
          "metadata": {},
          "output_type": "display_data"
        }
      ],
      "source": [
        "mem_usages = [22.1, 25.7, 30.4, 35.8]  # Replace with actual peak memory (MB)\n",
        "\n",
        "plt.bar(platforms, mem_usages, color='salmon')\n",
        "plt.ylabel('Peak Memory Usage (MB)')\n",
        "plt.title('TFLite Peak Memory Usage Comparison')\n",
        "plt.grid(True, axis='y')\n",
        "plt.tight_layout()\n",
        "plt.show()\n"
      ]
    },
    {
      "cell_type": "markdown",
      "metadata": {
        "id": "B7k1FsSjhAYt"
      },
      "source": [
        "### CNNs on Tensor Flow Lite"
      ]
    },
    {
      "cell_type": "markdown",
      "metadata": {
        "id": "Cg_QXRTyIRRp"
      },
      "source": [
        "Now it's your turn to develop a TF Lite application. This time make sure you train a convolutional model to classify images from a different dataset you choose from Kaggle, Roboflow, Hugging Face or similar, not Mnist, Fashion Mnist nor ImageNet. Now, performance evaluation will focus only on **inference**.\n",
        "\n",
        "Use the Jetson Board and the workstation to run inference both with Tensor Flow and TF Lite. Measure the **peak memory** and **time** and estimate the **energy** consumed based on the nominal power consumption of each system or chip."
      ]
    },
    {
      "cell_type": "markdown",
      "metadata": {
        "id": "_Ib0RDTL4ugB"
      },
      "source": [
        "Repeat the experiments without using a GPU and compare the results. Use the following code to disable GPU use in TensorFlow."
      ]
    },
    {
      "cell_type": "code",
      "execution_count": 35,
      "metadata": {
        "colab": {
          "base_uri": "https://localhost:8080/",
          "height": 321
        },
        "id": "LqIQ-ptk4oBB",
        "outputId": "b45f786c-8abf-4534-b589-b8d3f443391a"
      },
      "outputs": [
        {
          "name": "stdout",
          "output_type": "stream",
          "text": [
            "GPU: /physical_device:GPU:0, Memory Info: {'current': 5236736, 'peak': 342149632}\n",
            "TensorFlow version: 2.19.0\n",
            "Num GPUs Available: 1\n",
            "GPUs available: ['/physical_device:GPU:0']\n"
          ]
        }
      ],
      "source": [
        "import tensorflow as tf\n",
        "\n",
        "# List available GPUs\n",
        "gpus = tf.config.list_physical_devices('GPU')\n",
        "\n",
        "# Print GPU information\n",
        "for gpu in gpus:\n",
        "    gpu_name = gpu.name\n",
        "    device_string = gpu.name.split('/')[-1]  # Extract \"GPU:0\" from \"/physical_device:GPU:0\"\n",
        "    memory_info = tf.config.experimental.get_memory_info('GPU:0')  # Use the correct device string\n",
        "    print(f\"GPU: {gpu_name}, Memory Info: {memory_info}\")\n",
        "# Disable all GPUs\n",
        "# tf.config.set_visible_devices([], 'GPU')\n",
        "\n",
        "import tensorflow as tf\n",
        "\n",
        "print(\"TensorFlow version:\", tf.__version__)\n",
        "print(\"Num GPUs Available:\", len(tf.config.list_physical_devices('GPU')))\n",
        "\n",
        "# Check if GPU is enabled\n",
        "gpus = tf.config.list_physical_devices('GPU')\n",
        "if gpus:\n",
        "    print(f\"GPUs available: {[gpu.name for gpu in gpus]}\")\n",
        "else:\n",
        "    print(\"No GPUs available. Using CPU.\")\n"
      ]
    },
    {
      "cell_type": "code",
      "execution_count": 39,
      "metadata": {},
      "outputs": [
        {
          "name": "stdout",
          "output_type": "stream",
          "text": [
            "Downloaded to: /home/master/.cache/kagglehub/datasets/chrisfilo/fruit-recognition/versions/1\n"
          ]
        }
      ],
      "source": [
        "import kagglehub\n",
        "\n",
        "path = kagglehub.dataset_download(\"chrisfilo/fruit-recognition\")\n",
        "print(\"Downloaded to:\", path)\n"
      ]
    },
    {
      "cell_type": "code",
      "execution_count": null,
      "metadata": {},
      "outputs": [
        {
          "name": "stdout",
          "output_type": "stream",
          "text": [
            "✅ Dataset copied to: ./fruit_dataset\n"
          ]
        }
      ],
      "source": [
        "import shutil\n",
        "\n",
        "source_path = \"/home/master/.cache/kagglehub/datasets/chrisfilo/fruit-recognition/versions/1\"\n",
        "target_path = \"./fruit_dataset\"\n",
        "\n",
        "shutil.copytree(source_path, target_path, dirs_exist_ok=True)\n",
        "print(f\"Dataset copied to: {target_path}\")\n"
      ]
    },
    {
      "cell_type": "code",
      "execution_count": 45,
      "metadata": {},
      "outputs": [
        {
          "name": "stdout",
          "output_type": "stream",
          "text": [
            "KaggleHub cache cleared.\n"
          ]
        }
      ],
      "source": [
        "import shutil\n",
        "import os\n",
        "\n",
        "cache_path = os.path.expanduser(\"~/.cache/kagglehub\")\n",
        "\n",
        "if os.path.exists(cache_path):\n",
        "    shutil.rmtree(cache_path)\n",
        "    print(\"KaggleHub cache cleared.\")\n",
        "else:\n",
        "    print(\"No KaggleHub cache found.\")\n"
      ]
    },
    {
      "cell_type": "code",
      "execution_count": 47,
      "metadata": {},
      "outputs": [
        {
          "name": "stderr",
          "output_type": "stream",
          "text": [
            "Copying files: 31201 files [00:29, 1068.59 files/s]\n"
          ]
        }
      ],
      "source": [
        "import splitfolders\n",
        "\n",
        "splitfolders.ratio(\n",
        "    \"./fruit_dataset\",   # source folder\n",
        "    output=\"./data\",     # destination\n",
        "    seed=42,\n",
        "    ratio=(.7, .2, .1)    # 70% train, 20% val, 10% test\n",
        ")\n"
      ]
    },
    {
      "cell_type": "code",
      "execution_count": 3,
      "metadata": {},
      "outputs": [],
      "source": [
        "import tensorflow as tf\n",
        "from tensorflow.keras import layers, models\n",
        "import matplotlib.pyplot as plt\n",
        "\n",
        "# Settings\n",
        "IMG_HEIGHT, IMG_WIDTH = 100, 100\n",
        "BATCH_SIZE = 32\n",
        "EPOCHS = 10\n"
      ]
    },
    {
      "cell_type": "code",
      "execution_count": 49,
      "metadata": {},
      "outputs": [
        {
          "name": "stdout",
          "output_type": "stream",
          "text": [
            "Found 21834 files belonging to 16 classes.\n",
            "Found 6235 files belonging to 16 classes.\n",
            "Classes: ['Apple', 'Banana', 'Carambola', 'Guava', 'Kiwi', 'Mango', 'Orange', 'Peach', 'Pear', 'Persimmon', 'Pitaya', 'Plum', 'Pomegranate', 'Tomatoes', 'extracted', 'muskmelon']\n"
          ]
        }
      ],
      "source": [
        "train_ds = tf.keras.utils.image_dataset_from_directory(\n",
        "    \"./data/train\",\n",
        "    image_size=(IMG_HEIGHT, IMG_WIDTH),\n",
        "    batch_size=BATCH_SIZE,\n",
        "    shuffle=True\n",
        ")\n",
        "\n",
        "val_ds = tf.keras.utils.image_dataset_from_directory(\n",
        "    \"./data/val\",\n",
        "    image_size=(IMG_HEIGHT, IMG_WIDTH),\n",
        "    batch_size=BATCH_SIZE\n",
        ")\n",
        "\n",
        "class_names = train_ds.class_names\n",
        "num_classes = len(class_names)\n",
        "print(\"Classes:\", class_names)\n",
        "\n",
        "# Optional: performance improvements\n",
        "AUTOTUNE = tf.data.AUTOTUNE\n",
        "train_ds = train_ds.prefetch(buffer_size=AUTOTUNE)\n",
        "val_ds = val_ds.prefetch(buffer_size=AUTOTUNE)\n"
      ]
    },
    {
      "cell_type": "code",
      "execution_count": 50,
      "metadata": {},
      "outputs": [
        {
          "name": "stderr",
          "output_type": "stream",
          "text": [
            "/home/master/.local/lib/python3.10/site-packages/keras/src/layers/preprocessing/tf_data_layer.py:19: UserWarning: Do not pass an `input_shape`/`input_dim` argument to a layer. When using Sequential models, prefer using an `Input(shape)` object as the first layer in the model instead.\n",
            "  super().__init__(**kwargs)\n"
          ]
        }
      ],
      "source": [
        "model = models.Sequential([\n",
        "    layers.Rescaling(1./255, input_shape=(IMG_HEIGHT, IMG_WIDTH, 3)),\n",
        "    layers.Conv2D(32, (3, 3), activation='relu'),\n",
        "    layers.MaxPooling2D(),\n",
        "    layers.Conv2D(64, (3, 3), activation='relu'),\n",
        "    layers.MaxPooling2D(),\n",
        "    layers.Conv2D(128, (3, 3), activation='relu'),\n",
        "    layers.MaxPooling2D(),\n",
        "    layers.Flatten(),\n",
        "    layers.Dense(128, activation='relu'),\n",
        "    layers.Dropout(0.3),\n",
        "    layers.Dense(num_classes, activation='softmax')\n",
        "])\n"
      ]
    },
    {
      "cell_type": "code",
      "execution_count": 51,
      "metadata": {},
      "outputs": [
        {
          "name": "stdout",
          "output_type": "stream",
          "text": [
            "Epoch 1/10\n"
          ]
        },
        {
          "name": "stderr",
          "output_type": "stream",
          "text": [
            "2025-07-06 14:41:54.091481: I external/local_xla/xla/service/gpu/autotuning/conv_algorithm_picker.cc:549] Omitted potentially buggy algorithm eng14{} for conv %cudnn-conv-bias-activation.9 = (f32[32,32,98,98]{3,2,1,0}, u8[0]{0}) custom-call(f32[32,3,100,100]{3,2,1,0} %bitcast.4932, f32[32,3,3,3]{3,2,1,0} %bitcast.4711, f32[32]{0} %bitcast.5275), window={size=3x3}, dim_labels=bf01_oi01->bf01, custom_call_target=\"__cudnn$convBiasActivationForward\", metadata={op_type=\"Conv2D\" op_name=\"sequential_2_1/conv2d_1/convolution\" source_file=\"/home/master/.local/lib/python3.10/site-packages/tensorflow/python/framework/ops.py\" source_line=1200}, backend_config={\"operation_queue_id\":\"0\",\"wait_on_operation_queues\":[],\"cudnn_conv_backend_config\":{\"conv_result_scale\":1,\"activation_mode\":\"kNone\",\"side_input_scale\":0,\"leakyrelu_alpha\":0},\"force_earliest_schedule\":false}\n",
            "2025-07-06 14:41:54.143229: I external/local_xla/xla/service/gpu/autotuning/conv_algorithm_picker.cc:549] Omitted potentially buggy algorithm eng14{} for conv %cudnn-conv-bias-activation.10 = (f32[32,64,47,47]{3,2,1,0}, u8[0]{0}) custom-call(f32[32,32,49,49]{3,2,1,0} %bitcast.5339, f32[64,32,3,3]{3,2,1,0} %bitcast.4731, f32[64]{0} %bitcast.5399), window={size=3x3}, dim_labels=bf01_oi01->bf01, custom_call_target=\"__cudnn$convBiasActivationForward\", metadata={op_type=\"Conv2D\" op_name=\"sequential_2_1/conv2d_1_2/convolution\" source_file=\"/home/master/.local/lib/python3.10/site-packages/tensorflow/python/framework/ops.py\" source_line=1200}, backend_config={\"operation_queue_id\":\"0\",\"wait_on_operation_queues\":[],\"cudnn_conv_backend_config\":{\"conv_result_scale\":1,\"activation_mode\":\"kNone\",\"side_input_scale\":0,\"leakyrelu_alpha\":0},\"force_earliest_schedule\":false}\n",
            "2025-07-06 14:41:54.482732: I external/local_xla/xla/service/gpu/autotuning/conv_algorithm_picker.cc:549] Omitted potentially buggy algorithm eng14{} for conv %cudnn-conv-bias-activation.11 = (f32[32,128,21,21]{3,2,1,0}, u8[0]{0}) custom-call(f32[32,64,23,23]{3,2,1,0} %bitcast.5463, f32[128,64,3,3]{3,2,1,0} %bitcast.4750, f32[128]{0} %bitcast.5523), window={size=3x3}, dim_labels=bf01_oi01->bf01, custom_call_target=\"__cudnn$convBiasActivationForward\", metadata={op_type=\"Conv2D\" op_name=\"sequential_2_1/conv2d_2_1/convolution\" source_file=\"/home/master/.local/lib/python3.10/site-packages/tensorflow/python/framework/ops.py\" source_line=1200}, backend_config={\"operation_queue_id\":\"0\",\"wait_on_operation_queues\":[],\"cudnn_conv_backend_config\":{\"conv_result_scale\":1,\"activation_mode\":\"kNone\",\"side_input_scale\":0,\"leakyrelu_alpha\":0},\"force_earliest_schedule\":false}\n"
          ]
        },
        {
          "name": "stdout",
          "output_type": "stream",
          "text": [
            "\u001b[1m682/683\u001b[0m \u001b[32m━━━━━━━━━━━━━━━━━━━\u001b[0m\u001b[37m━\u001b[0m \u001b[1m0s\u001b[0m 30ms/step - accuracy: 0.5878 - loss: 1.1684"
          ]
        },
        {
          "name": "stderr",
          "output_type": "stream",
          "text": [
            "2025-07-06 14:42:19.281685: I external/local_xla/xla/service/gpu/autotuning/conv_algorithm_picker.cc:549] Omitted potentially buggy algorithm eng14{} for conv %cudnn-conv-bias-activation.9 = (f32[10,32,98,98]{3,2,1,0}, u8[0]{0}) custom-call(f32[10,3,100,100]{3,2,1,0} %bitcast.4934, f32[32,3,3,3]{3,2,1,0} %bitcast.4713, f32[32]{0} %bitcast.5278), window={size=3x3}, dim_labels=bf01_oi01->bf01, custom_call_target=\"__cudnn$convBiasActivationForward\", metadata={op_type=\"Conv2D\" op_name=\"sequential_2_1/conv2d_1/convolution\" source_file=\"/home/master/.local/lib/python3.10/site-packages/tensorflow/python/framework/ops.py\" source_line=1200}, backend_config={\"operation_queue_id\":\"0\",\"wait_on_operation_queues\":[],\"cudnn_conv_backend_config\":{\"conv_result_scale\":1,\"activation_mode\":\"kNone\",\"side_input_scale\":0,\"leakyrelu_alpha\":0},\"force_earliest_schedule\":false}\n",
            "2025-07-06 14:42:19.388748: I external/local_xla/xla/service/gpu/autotuning/conv_algorithm_picker.cc:549] Omitted potentially buggy algorithm eng14{} for conv %cudnn-conv-bias-activation.10 = (f32[10,64,47,47]{3,2,1,0}, u8[0]{0}) custom-call(f32[10,32,49,49]{3,2,1,0} %bitcast.5342, f32[64,32,3,3]{3,2,1,0} %bitcast.4733, f32[64]{0} %bitcast.5402), window={size=3x3}, dim_labels=bf01_oi01->bf01, custom_call_target=\"__cudnn$convBiasActivationForward\", metadata={op_type=\"Conv2D\" op_name=\"sequential_2_1/conv2d_1_2/convolution\" source_file=\"/home/master/.local/lib/python3.10/site-packages/tensorflow/python/framework/ops.py\" source_line=1200}, backend_config={\"operation_queue_id\":\"0\",\"wait_on_operation_queues\":[],\"cudnn_conv_backend_config\":{\"conv_result_scale\":1,\"activation_mode\":\"kNone\",\"side_input_scale\":0,\"leakyrelu_alpha\":0},\"force_earliest_schedule\":false}\n",
            "2025-07-06 14:42:19.476055: I external/local_xla/xla/service/gpu/autotuning/conv_algorithm_picker.cc:549] Omitted potentially buggy algorithm eng14{} for conv %cudnn-conv-bias-activation.11 = (f32[10,128,21,21]{3,2,1,0}, u8[0]{0}) custom-call(f32[10,64,23,23]{3,2,1,0} %bitcast.5466, f32[128,64,3,3]{3,2,1,0} %bitcast.4752, f32[128]{0} %bitcast.5526), window={size=3x3}, dim_labels=bf01_oi01->bf01, custom_call_target=\"__cudnn$convBiasActivationForward\", metadata={op_type=\"Conv2D\" op_name=\"sequential_2_1/conv2d_2_1/convolution\" source_file=\"/home/master/.local/lib/python3.10/site-packages/tensorflow/python/framework/ops.py\" source_line=1200}, backend_config={\"operation_queue_id\":\"0\",\"wait_on_operation_queues\":[],\"cudnn_conv_backend_config\":{\"conv_result_scale\":1,\"activation_mode\":\"kNone\",\"side_input_scale\":0,\"leakyrelu_alpha\":0},\"force_earliest_schedule\":false}\n"
          ]
        },
        {
          "name": "stdout",
          "output_type": "stream",
          "text": [
            "\u001b[1m683/683\u001b[0m \u001b[32m━━━━━━━━━━━━━━━━━━━━\u001b[0m\u001b[37m\u001b[0m \u001b[1m0s\u001b[0m 35ms/step - accuracy: 0.5881 - loss: 1.1676"
          ]
        },
        {
          "name": "stderr",
          "output_type": "stream",
          "text": [
            "2025-07-06 14:42:22.807300: I external/local_xla/xla/service/gpu/autotuning/conv_algorithm_picker.cc:549] Omitted potentially buggy algorithm eng14{} for conv %cudnn-conv-bias-activation.9 = (f32[32,32,98,98]{3,2,1,0}, u8[0]{0}) custom-call(f32[32,3,100,100]{3,2,1,0} %bitcast.535, f32[32,3,3,3]{3,2,1,0} %bitcast.542, f32[32]{0} %bitcast.544), window={size=3x3}, dim_labels=bf01_oi01->bf01, custom_call_target=\"__cudnn$convBiasActivationForward\", metadata={op_type=\"Conv2D\" op_name=\"sequential_2_1/conv2d_1/convolution\" source_file=\"/home/master/.local/lib/python3.10/site-packages/tensorflow/python/framework/ops.py\" source_line=1200}, backend_config={\"operation_queue_id\":\"0\",\"wait_on_operation_queues\":[],\"cudnn_conv_backend_config\":{\"conv_result_scale\":1,\"activation_mode\":\"kRelu\",\"side_input_scale\":0,\"leakyrelu_alpha\":0},\"force_earliest_schedule\":false}\n",
            "2025-07-06 14:42:22.855908: I external/local_xla/xla/service/gpu/autotuning/conv_algorithm_picker.cc:549] Omitted potentially buggy algorithm eng14{} for conv %cudnn-conv-bias-activation.10 = (f32[32,64,47,47]{3,2,1,0}, u8[0]{0}) custom-call(f32[32,32,49,49]{3,2,1,0} %bitcast.551, f32[64,32,3,3]{3,2,1,0} %bitcast.558, f32[64]{0} %bitcast.560), window={size=3x3}, dim_labels=bf01_oi01->bf01, custom_call_target=\"__cudnn$convBiasActivationForward\", metadata={op_type=\"Conv2D\" op_name=\"sequential_2_1/conv2d_1_2/convolution\" source_file=\"/home/master/.local/lib/python3.10/site-packages/tensorflow/python/framework/ops.py\" source_line=1200}, backend_config={\"operation_queue_id\":\"0\",\"wait_on_operation_queues\":[],\"cudnn_conv_backend_config\":{\"conv_result_scale\":1,\"activation_mode\":\"kRelu\",\"side_input_scale\":0,\"leakyrelu_alpha\":0},\"force_earliest_schedule\":false}\n",
            "2025-07-06 14:42:23.148667: I external/local_xla/xla/service/gpu/autotuning/conv_algorithm_picker.cc:549] Omitted potentially buggy algorithm eng14{} for conv %cudnn-conv-bias-activation.11 = (f32[32,128,21,21]{3,2,1,0}, u8[0]{0}) custom-call(f32[32,64,23,23]{3,2,1,0} %bitcast.566, f32[128,64,3,3]{3,2,1,0} %bitcast.573, f32[128]{0} %bitcast.575), window={size=3x3}, dim_labels=bf01_oi01->bf01, custom_call_target=\"__cudnn$convBiasActivationForward\", metadata={op_type=\"Conv2D\" op_name=\"sequential_2_1/conv2d_2_1/convolution\" source_file=\"/home/master/.local/lib/python3.10/site-packages/tensorflow/python/framework/ops.py\" source_line=1200}, backend_config={\"operation_queue_id\":\"0\",\"wait_on_operation_queues\":[],\"cudnn_conv_backend_config\":{\"conv_result_scale\":1,\"activation_mode\":\"kRelu\",\"side_input_scale\":0,\"leakyrelu_alpha\":0},\"force_earliest_schedule\":false}\n",
            "2025-07-06 14:42:29.660977: I external/local_xla/xla/service/gpu/autotuning/conv_algorithm_picker.cc:549] Omitted potentially buggy algorithm eng14{} for conv %cudnn-conv-bias-activation.9 = (f32[27,32,98,98]{3,2,1,0}, u8[0]{0}) custom-call(f32[27,3,100,100]{3,2,1,0} %bitcast.535, f32[32,3,3,3]{3,2,1,0} %bitcast.542, f32[32]{0} %bitcast.544), window={size=3x3}, dim_labels=bf01_oi01->bf01, custom_call_target=\"__cudnn$convBiasActivationForward\", metadata={op_type=\"Conv2D\" op_name=\"sequential_2_1/conv2d_1/convolution\" source_file=\"/home/master/.local/lib/python3.10/site-packages/tensorflow/python/framework/ops.py\" source_line=1200}, backend_config={\"operation_queue_id\":\"0\",\"wait_on_operation_queues\":[],\"cudnn_conv_backend_config\":{\"conv_result_scale\":1,\"activation_mode\":\"kRelu\",\"side_input_scale\":0,\"leakyrelu_alpha\":0},\"force_earliest_schedule\":false}\n",
            "2025-07-06 14:42:29.692149: I external/local_xla/xla/service/gpu/autotuning/conv_algorithm_picker.cc:549] Omitted potentially buggy algorithm eng14{} for conv %cudnn-conv-bias-activation.10 = (f32[27,64,47,47]{3,2,1,0}, u8[0]{0}) custom-call(f32[27,32,49,49]{3,2,1,0} %bitcast.551, f32[64,32,3,3]{3,2,1,0} %bitcast.558, f32[64]{0} %bitcast.560), window={size=3x3}, dim_labels=bf01_oi01->bf01, custom_call_target=\"__cudnn$convBiasActivationForward\", metadata={op_type=\"Conv2D\" op_name=\"sequential_2_1/conv2d_1_2/convolution\" source_file=\"/home/master/.local/lib/python3.10/site-packages/tensorflow/python/framework/ops.py\" source_line=1200}, backend_config={\"operation_queue_id\":\"0\",\"wait_on_operation_queues\":[],\"cudnn_conv_backend_config\":{\"conv_result_scale\":1,\"activation_mode\":\"kRelu\",\"side_input_scale\":0,\"leakyrelu_alpha\":0},\"force_earliest_schedule\":false}\n",
            "2025-07-06 14:42:29.934916: I external/local_xla/xla/service/gpu/autotuning/conv_algorithm_picker.cc:549] Omitted potentially buggy algorithm eng14{} for conv %cudnn-conv-bias-activation.11 = (f32[27,128,21,21]{3,2,1,0}, u8[0]{0}) custom-call(f32[27,64,23,23]{3,2,1,0} %bitcast.566, f32[128,64,3,3]{3,2,1,0} %bitcast.573, f32[128]{0} %bitcast.575), window={size=3x3}, dim_labels=bf01_oi01->bf01, custom_call_target=\"__cudnn$convBiasActivationForward\", metadata={op_type=\"Conv2D\" op_name=\"sequential_2_1/conv2d_2_1/convolution\" source_file=\"/home/master/.local/lib/python3.10/site-packages/tensorflow/python/framework/ops.py\" source_line=1200}, backend_config={\"operation_queue_id\":\"0\",\"wait_on_operation_queues\":[],\"cudnn_conv_backend_config\":{\"conv_result_scale\":1,\"activation_mode\":\"kRelu\",\"side_input_scale\":0,\"leakyrelu_alpha\":0},\"force_earliest_schedule\":false}\n"
          ]
        },
        {
          "name": "stdout",
          "output_type": "stream",
          "text": [
            "\u001b[1m683/683\u001b[0m \u001b[32m━━━━━━━━━━━━━━━━━━━━\u001b[0m\u001b[37m\u001b[0m \u001b[1m40s\u001b[0m 48ms/step - accuracy: 0.5883 - loss: 1.1668 - val_accuracy: 0.9485 - val_loss: 0.1520\n",
            "Epoch 2/10\n",
            "\u001b[1m683/683\u001b[0m \u001b[32m━━━━━━━━━━━━━━━━━━━━\u001b[0m\u001b[37m\u001b[0m \u001b[1m26s\u001b[0m 38ms/step - accuracy: 0.9288 - loss: 0.2050 - val_accuracy: 0.9476 - val_loss: 0.1509\n",
            "Epoch 3/10\n",
            "\u001b[1m683/683\u001b[0m \u001b[32m━━━━━━━━━━━━━━━━━━━━\u001b[0m\u001b[37m\u001b[0m \u001b[1m26s\u001b[0m 38ms/step - accuracy: 0.9562 - loss: 0.1301 - val_accuracy: 0.9549 - val_loss: 0.1389\n",
            "Epoch 4/10\n",
            "\u001b[1m683/683\u001b[0m \u001b[32m━━━━━━━━━━━━━━━━━━━━\u001b[0m\u001b[37m\u001b[0m \u001b[1m32s\u001b[0m 47ms/step - accuracy: 0.9720 - loss: 0.0844 - val_accuracy: 0.9840 - val_loss: 0.0523\n",
            "Epoch 5/10\n",
            "\u001b[1m683/683\u001b[0m \u001b[32m━━━━━━━━━━━━━━━━━━━━\u001b[0m\u001b[37m\u001b[0m \u001b[1m26s\u001b[0m 38ms/step - accuracy: 0.9775 - loss: 0.0730 - val_accuracy: 0.9698 - val_loss: 0.0992\n",
            "Epoch 6/10\n",
            "\u001b[1m683/683\u001b[0m \u001b[32m━━━━━━━━━━━━━━━━━━━━\u001b[0m\u001b[37m\u001b[0m \u001b[1m27s\u001b[0m 39ms/step - accuracy: 0.9769 - loss: 0.0681 - val_accuracy: 0.9772 - val_loss: 0.0719\n",
            "Epoch 7/10\n",
            "\u001b[1m683/683\u001b[0m \u001b[32m━━━━━━━━━━━━━━━━━━━━\u001b[0m\u001b[37m\u001b[0m \u001b[1m29s\u001b[0m 42ms/step - accuracy: 0.9852 - loss: 0.0500 - val_accuracy: 0.9833 - val_loss: 0.0535\n",
            "Epoch 8/10\n",
            "\u001b[1m683/683\u001b[0m \u001b[32m━━━━━━━━━━━━━━━━━━━━\u001b[0m\u001b[37m\u001b[0m \u001b[1m33s\u001b[0m 48ms/step - accuracy: 0.9888 - loss: 0.0358 - val_accuracy: 0.9822 - val_loss: 0.0592\n",
            "Epoch 9/10\n",
            "\u001b[1m683/683\u001b[0m \u001b[32m━━━━━━━━━━━━━━━━━━━━\u001b[0m\u001b[37m\u001b[0m \u001b[1m27s\u001b[0m 39ms/step - accuracy: 0.9856 - loss: 0.0419 - val_accuracy: 0.9891 - val_loss: 0.0347\n",
            "Epoch 10/10\n",
            "\u001b[1m683/683\u001b[0m \u001b[32m━━━━━━━━━━━━━━━━━━━━\u001b[0m\u001b[37m\u001b[0m \u001b[1m27s\u001b[0m 40ms/step - accuracy: 0.9889 - loss: 0.0366 - val_accuracy: 0.9873 - val_loss: 0.0394\n"
          ]
        }
      ],
      "source": [
        "model.compile(\n",
        "    optimizer='adam',\n",
        "    loss='sparse_categorical_crossentropy',\n",
        "    metrics=['accuracy']\n",
        ")\n",
        "\n",
        "history = model.fit(\n",
        "    train_ds,\n",
        "    validation_data=val_ds,\n",
        "    epochs=EPOCHS\n",
        ")\n"
      ]
    },
    {
      "cell_type": "code",
      "execution_count": 52,
      "metadata": {},
      "outputs": [
        {
          "name": "stdout",
          "output_type": "stream",
          "text": [
            "Found 3132 files belonging to 16 classes.\n",
            "\u001b[1m96/98\u001b[0m \u001b[32m━━━━━━━━━━━━━━━━━━━\u001b[0m\u001b[37m━\u001b[0m \u001b[1m0s\u001b[0m 27ms/step - accuracy: 0.9907 - loss: 0.0347"
          ]
        },
        {
          "name": "stderr",
          "output_type": "stream",
          "text": [
            "2025-07-06 14:48:04.673346: I external/local_xla/xla/service/gpu/autotuning/conv_algorithm_picker.cc:549] Omitted potentially buggy algorithm eng14{} for conv %cudnn-conv-bias-activation.9 = (f32[28,32,98,98]{3,2,1,0}, u8[0]{0}) custom-call(f32[28,3,100,100]{3,2,1,0} %bitcast.535, f32[32,3,3,3]{3,2,1,0} %bitcast.542, f32[32]{0} %bitcast.544), window={size=3x3}, dim_labels=bf01_oi01->bf01, custom_call_target=\"__cudnn$convBiasActivationForward\", metadata={op_type=\"Conv2D\" op_name=\"sequential_2_1/conv2d_1/convolution\" source_file=\"/home/master/.local/lib/python3.10/site-packages/tensorflow/python/framework/ops.py\" source_line=1200}, backend_config={\"operation_queue_id\":\"0\",\"wait_on_operation_queues\":[],\"cudnn_conv_backend_config\":{\"conv_result_scale\":1,\"activation_mode\":\"kRelu\",\"side_input_scale\":0,\"leakyrelu_alpha\":0},\"force_earliest_schedule\":false}\n",
            "2025-07-06 14:48:04.723362: I external/local_xla/xla/service/gpu/autotuning/conv_algorithm_picker.cc:549] Omitted potentially buggy algorithm eng14{} for conv %cudnn-conv-bias-activation.10 = (f32[28,64,47,47]{3,2,1,0}, u8[0]{0}) custom-call(f32[28,32,49,49]{3,2,1,0} %bitcast.551, f32[64,32,3,3]{3,2,1,0} %bitcast.558, f32[64]{0} %bitcast.560), window={size=3x3}, dim_labels=bf01_oi01->bf01, custom_call_target=\"__cudnn$convBiasActivationForward\", metadata={op_type=\"Conv2D\" op_name=\"sequential_2_1/conv2d_1_2/convolution\" source_file=\"/home/master/.local/lib/python3.10/site-packages/tensorflow/python/framework/ops.py\" source_line=1200}, backend_config={\"operation_queue_id\":\"0\",\"wait_on_operation_queues\":[],\"cudnn_conv_backend_config\":{\"conv_result_scale\":1,\"activation_mode\":\"kRelu\",\"side_input_scale\":0,\"leakyrelu_alpha\":0},\"force_earliest_schedule\":false}\n",
            "2025-07-06 14:48:04.961652: I external/local_xla/xla/service/gpu/autotuning/conv_algorithm_picker.cc:549] Omitted potentially buggy algorithm eng14{} for conv %cudnn-conv-bias-activation.11 = (f32[28,128,21,21]{3,2,1,0}, u8[0]{0}) custom-call(f32[28,64,23,23]{3,2,1,0} %bitcast.566, f32[128,64,3,3]{3,2,1,0} %bitcast.573, f32[128]{0} %bitcast.575), window={size=3x3}, dim_labels=bf01_oi01->bf01, custom_call_target=\"__cudnn$convBiasActivationForward\", metadata={op_type=\"Conv2D\" op_name=\"sequential_2_1/conv2d_2_1/convolution\" source_file=\"/home/master/.local/lib/python3.10/site-packages/tensorflow/python/framework/ops.py\" source_line=1200}, backend_config={\"operation_queue_id\":\"0\",\"wait_on_operation_queues\":[],\"cudnn_conv_backend_config\":{\"conv_result_scale\":1,\"activation_mode\":\"kRelu\",\"side_input_scale\":0,\"leakyrelu_alpha\":0},\"force_earliest_schedule\":false}\n"
          ]
        },
        {
          "name": "stdout",
          "output_type": "stream",
          "text": [
            "\u001b[1m98/98\u001b[0m \u001b[32m━━━━━━━━━━━━━━━━━━━━\u001b[0m\u001b[37m\u001b[0m \u001b[1m5s\u001b[0m 51ms/step - accuracy: 0.9907 - loss: 0.0346\n",
            "Test Accuracy: 0.9907\n"
          ]
        }
      ],
      "source": [
        "test_ds = tf.keras.utils.image_dataset_from_directory(\n",
        "    \"./data/test\",\n",
        "    image_size=(IMG_HEIGHT, IMG_WIDTH),\n",
        "    batch_size=BATCH_SIZE\n",
        ")\n",
        "\n",
        "test_loss, test_acc = model.evaluate(test_ds)\n",
        "print(f\"Test Accuracy: {test_acc:.4f}\")\n"
      ]
    },
    {
      "cell_type": "code",
      "execution_count": 53,
      "metadata": {},
      "outputs": [],
      "source": [
        "model.save(\"fruit_classifier.keras\")\n"
      ]
    },
    {
      "cell_type": "code",
      "execution_count": null,
      "metadata": {},
      "outputs": [],
      "source": []
    },
    {
      "cell_type": "code",
      "execution_count": 4,
      "metadata": {},
      "outputs": [
        {
          "name": "stdout",
          "output_type": "stream",
          "text": [
            "Found 3132 files belonging to 16 classes.\n",
            "\u001b[1m98/98\u001b[0m \u001b[32m━━━━━━━━━━━━━━━━━━━━\u001b[0m\u001b[37m\u001b[0m \u001b[1m3s\u001b[0m 31ms/step\n"
          ]
        },
        {
          "data": {
            "image/png": "[encoded data removed]",
            "text/plain": [
              "<Figure size 1200x1000 with 2 Axes>"
            ]
          },
          "metadata": {},
          "output_type": "display_data"
        }
      ],
      "source": [
        "import numpy as np\n",
        "import matplotlib.pyplot as plt\n",
        "import seaborn as sns\n",
        "from sklearn.metrics import confusion_matrix, ConfusionMatrixDisplay\n",
        "import tensorflow as tf\n",
        "from tensorflow.keras.models import load_model\n",
        "\n",
        "# Load the trained model\n",
        "model = load_model(\"fruit_classifier.keras\")\n",
        "\n",
        "# Load the test dataset\n",
        "test_ds = tf.keras.utils.image_dataset_from_directory(\n",
        "    \"./data/test\",\n",
        "    image_size=(IMG_HEIGHT, IMG_WIDTH),\n",
        "    batch_size=BATCH_SIZE,\n",
        "    shuffle=False  # Ensure labels align with predictions\n",
        ")\n",
        "\n",
        "# Extract class names and true labels\n",
        "class_names = test_ds.class_names\n",
        "# Concatenate true labels from the dataset\n",
        "y_true = np.concatenate([labels.numpy() for _, labels in test_ds], axis=0)\n",
        "\n",
        "# Generate predictions\n",
        "y_pred_probs = model.predict(test_ds)\n",
        "y_pred = np.argmax(y_pred_probs, axis=1)\n",
        "\n",
        "# Compute confusion matrix\n",
        "cm = confusion_matrix(y_true, y_pred)\n",
        "\n",
        "# Plot confusion matrix with improved visualization\n",
        "plt.figure(figsize=(12, 10))\n",
        "sns.heatmap(\n",
        "    cm, annot=True, fmt=\"d\", cmap=\"viridis\",\n",
        "    xticklabels=class_names, yticklabels=class_names,\n",
        "    cbar=True, cbar_kws={\"label\": \"Number of Samples\"}\n",
        ")\n",
        "plt.xlabel(\"Predicted Label\")\n",
        "plt.ylabel(\"True Label\")\n",
        "plt.title(\"Confusion Matrix - Fruit Classifier\")\n",
        "plt.xticks(rotation=45, ha=\"right\")\n",
        "plt.yticks(rotation=0)\n",
        "plt.tight_layout()\n",
        "plt.show()\n"
      ]
    },
    {
      "cell_type": "code",
      "execution_count": 5,
      "metadata": {},
      "outputs": [
        {
          "name": "stdout",
          "output_type": "stream",
          "text": [
            "Found 3132 files belonging to 16 classes.\n"
          ]
        },
        {
          "name": "stderr",
          "output_type": "stream",
          "text": [
            "2025-07-06 15:21:41.711485: I tensorflow/core/framework/local_rendezvous.cc:407] Local rendezvous is aborting with status: OUT_OF_RANGE: End of sequence\n",
            "2025-07-06 15:21:44.855130: W external/local_xla/xla/tsl/framework/cpu_allocator_impl.cc:83] Allocation of 375840000 exceeds 10% of free system memory.\n",
            "2025-07-06 15:21:45.433142: W external/local_xla/xla/tsl/framework/cpu_allocator_impl.cc:83] Allocation of 375840000 exceeds 10% of free system memory.\n"
          ]
        },
        {
          "name": "stdout",
          "output_type": "stream",
          "text": [
            "\u001b[1m98/98\u001b[0m \u001b[32m━━━━━━━━━━━━━━━━━━━━\u001b[0m\u001b[37m\u001b[0m \u001b[1m2s\u001b[0m 12ms/step\n",
            "Total inference time: 2.977 s\n",
            "Avg inference time: 0.950 ms/sample\n",
            "Peak memory increase: 101.25 MB\n",
            "Estimated energy usage: 223.241 J (assuming 75.0W)\n"
          ]
        }
      ],
      "source": [
        "import time\n",
        "import psutil\n",
        "import os\n",
        "import numpy as np\n",
        "import tensorflow as tf\n",
        "\n",
        "# Load test dataset (non-shuffled!)\n",
        "test_ds = tf.keras.utils.image_dataset_from_directory(\n",
        "    \"./data/test\",\n",
        "    image_size=(100, 100),\n",
        "    batch_size=32,\n",
        "    shuffle=False\n",
        ")\n",
        "\n",
        "# Flatten dataset into X and y\n",
        "X = np.concatenate([x for x, _ in test_ds], axis=0)\n",
        "y = np.concatenate([y for _, y in test_ds], axis=0)\n",
        "\n",
        "# Load the trained model\n",
        "model = tf.keras.models.load_model(\"fruit_classifier.keras\")\n",
        "\n",
        "# --- Performance Measurement ---\n",
        "process = psutil.Process(os.getpid())\n",
        "\n",
        "# Memory before inference\n",
        "mem_before = process.memory_info().rss\n",
        "\n",
        "# Time before inference\n",
        "start_time = time.perf_counter()\n",
        "\n",
        "# Inference\n",
        "predictions = model.predict(X)\n",
        "\n",
        "# Time after inference\n",
        "end_time = time.perf_counter()\n",
        "\n",
        "# Memory after inference\n",
        "mem_after = process.memory_info().rss\n",
        "\n",
        "# --- Results ---\n",
        "total_time = end_time - start_time\n",
        "avg_inference_time = total_time / len(X) * 1000  # ms per sample\n",
        "peak_memory_MB = (mem_after - mem_before) / (1024 * 1024)\n",
        "\n",
        "# --- Energy Estimation ---\n",
        "JETSON_NANO_POWER_CPU_W = 5.0\n",
        "JETSON_NANO_POWER_GPU_W = 5.0\n",
        "WORKSTATION_POWER_CPU_W = 75.0\n",
        "WORKSTATION_POWER_GPU_W = 75.0\n",
        "\n",
        "# Choose one:\n",
        "power = WORKSTATION_POWER_GPU_W  # or WORKSTATION_POWER_W\n",
        "energy_J = total_time * power\n",
        "\n",
        "# --- Print Results ---\n",
        "print(f\"Total inference time: {total_time:.3f} s\")\n",
        "print(f\"Avg inference time: {avg_inference_time:.3f} ms/sample\")\n",
        "print(f\"Peak memory increase: {peak_memory_MB:.2f} MB\")\n",
        "print(f\"Estimated energy usage: {energy_J:.3f} J (assuming {power}W)\")\n"
      ]
    },
    {
      "cell_type": "code",
      "execution_count": null,
      "metadata": {},
      "outputs": [
        {
          "name": "stderr",
          "output_type": "stream",
          "text": [
            "2025-07-06 15:31:11.489939: E external/local_xla/xla/stream_executor/cuda/cuda_fft.cc:467] Unable to register cuFFT factory: Attempting to register factory for plugin cuFFT when one has already been registered\n",
            "WARNING: All log messages before absl::InitializeLog() is called are written to STDERR\n",
            "E0000 00:00:1751833871.509652   40273 cuda_dnn.cc:8579] Unable to register cuDNN factory: Attempting to register factory for plugin cuDNN when one has already been registered\n",
            "E0000 00:00:1751833871.516325   40273 cuda_blas.cc:1407] Unable to register cuBLAS factory: Attempting to register factory for plugin cuBLAS when one has already been registered\n",
            "W0000 00:00:1751833871.536611   40273 computation_placer.cc:177] computation placer already registered. Please check linkage and avoid linking the same target more than once.\n",
            "W0000 00:00:1751833871.536664   40273 computation_placer.cc:177] computation placer already registered. Please check linkage and avoid linking the same target more than once.\n",
            "W0000 00:00:1751833871.536667   40273 computation_placer.cc:177] computation placer already registered. Please check linkage and avoid linking the same target more than once.\n",
            "W0000 00:00:1751833871.536669   40273 computation_placer.cc:177] computation placer already registered. Please check linkage and avoid linking the same target more than once.\n",
            "2025-07-06 15:31:11.542498: I tensorflow/core/platform/cpu_feature_guard.cc:210] This TensorFlow binary is optimized to use available CPU instructions in performance-critical operations.\n",
            "To enable the following instructions: AVX2 FMA, in other operations, rebuild TensorFlow with the appropriate compiler flags.\n",
            "I0000 00:00:1751833874.690454   40273 gpu_device.cc:2019] Created device /job:localhost/replica:0/task:0/device:GPU:0 with 2863 MB memory:  -> device: 0, name: NVIDIA GeForce GTX 1050, pci bus id: 0000:01:00.0, compute capability: 6.1\n"
          ]
        },
        {
          "name": "stdout",
          "output_type": "stream",
          "text": [
            "INFO:tensorflow:Assets written to: /tmp/tmp7uoi3p52/assets\n"
          ]
        },
        {
          "name": "stderr",
          "output_type": "stream",
          "text": [
            "INFO:tensorflow:Assets written to: /tmp/tmp7uoi3p52/assets\n"
          ]
        },
        {
          "name": "stdout",
          "output_type": "stream",
          "text": [
            "Saved artifact at '/tmp/tmp7uoi3p52'. The following endpoints are available:\n",
            "\n",
            "* Endpoint 'serve'\n",
            "  args_0 (POSITIONAL_ONLY): TensorSpec(shape=(None, 100, 100, 3), dtype=tf.float32, name='input_layer_2')\n",
            "Output Type:\n",
            "  TensorSpec(shape=(None, 16), dtype=tf.float32, name=None)\n",
            "Captures:\n",
            "  140426664532576: TensorSpec(shape=(), dtype=tf.resource, name=None)\n",
            "  140426664537504: TensorSpec(shape=(), dtype=tf.resource, name=None)\n",
            "  140426664796832: TensorSpec(shape=(), dtype=tf.resource, name=None)\n",
            "  140426664795952: TensorSpec(shape=(), dtype=tf.resource, name=None)\n",
            "  140426664790496: TensorSpec(shape=(), dtype=tf.resource, name=None)\n",
            "  140426647508016: TensorSpec(shape=(), dtype=tf.resource, name=None)\n",
            "  140426647514880: TensorSpec(shape=(), dtype=tf.resource, name=None)\n",
            "  140426647515760: TensorSpec(shape=(), dtype=tf.resource, name=None)\n",
            "  140426647801520: TensorSpec(shape=(), dtype=tf.resource, name=None)\n",
            "  140426647802224: TensorSpec(shape=(), dtype=tf.resource, name=None)\n",
            "✅ Converted to TFLite and saved as fruit_classifier.tflite\n"
          ]
        },
        {
          "name": "stderr",
          "output_type": "stream",
          "text": [
            "WARNING: All log messages before absl::InitializeLog() is called are written to STDERR\n",
            "W0000 00:00:1751833876.755273   40273 tf_tfl_flatbuffer_helpers.cc:365] Ignored output_format.\n",
            "W0000 00:00:1751833876.755332   40273 tf_tfl_flatbuffer_helpers.cc:368] Ignored drop_control_dependency.\n",
            "2025-07-06 15:31:16.756001: I tensorflow/cc/saved_model/reader.cc:83] Reading SavedModel from: /tmp/tmp7uoi3p52\n",
            "2025-07-06 15:31:16.756721: I tensorflow/cc/saved_model/reader.cc:52] Reading meta graph with tags { serve }\n",
            "2025-07-06 15:31:16.756731: I tensorflow/cc/saved_model/reader.cc:147] Reading SavedModel debug info (if present) from: /tmp/tmp7uoi3p52\n",
            "I0000 00:00:1751833876.765533   40273 mlir_graph_optimization_pass.cc:425] MLIR V1 optimization pass is not enabled\n",
            "2025-07-06 15:31:16.767218: I tensorflow/cc/saved_model/loader.cc:236] Restoring SavedModel bundle.\n",
            "2025-07-06 15:31:16.853086: I tensorflow/cc/saved_model/loader.cc:220] Running initialization op on SavedModel bundle at path: /tmp/tmp7uoi3p52\n",
            "2025-07-06 15:31:16.871991: I tensorflow/cc/saved_model/loader.cc:471] SavedModel load for tags { serve }; Status: success: OK. Took 115996 microseconds.\n",
            "2025-07-06 15:31:16.909156: I tensorflow/compiler/mlir/tensorflow/utils/dump_mlir_util.cc:269] disabling MLIR crash reproducer, set env var `MLIR_CRASH_REPRODUCER_DIRECTORY` to enable.\n"
          ]
        }
      ],
      "source": [
        "import tensorflow as tf\n",
        "\n",
        "# Load the trained model\n",
        "model = tf.keras.models.load_model(\"fruit_classifier.keras\")\n",
        "\n",
        "# Convert to TFLite\n",
        "converter = tf.lite.TFLiteConverter.from_keras_model(model)\n",
        "tflite_model = converter.convert()\n",
        "\n",
        "# Save the TFLite model\n",
        "with open(\"fruit_classifier.tflite\", \"wb\") as f:\n",
        "    f.write(tflite_model)\n",
        "\n",
        "print(\"Converted to TFLite and saved as fruit_classifier.tflite\")\n"
      ]
    },
    {
      "cell_type": "code",
      "execution_count": 10,
      "metadata": {},
      "outputs": [
        {
          "name": "stdout",
          "output_type": "stream",
          "text": [
            "Found 3132 files belonging to 16 classes.\n"
          ]
        },
        {
          "name": "stderr",
          "output_type": "stream",
          "text": [
            "2025-07-06 15:32:25.770413: W external/local_xla/xla/tsl/framework/cpu_allocator_impl.cc:83] Allocation of 375840000 exceeds 10% of free system memory.\n"
          ]
        },
        {
          "name": "stdout",
          "output_type": "stream",
          "text": [
            "TFLite inference on 3132 images\n",
            "Avg inference time: 3.71 ms/sample\n",
            "Peak memory increase: 0.00 MB\n",
            "Estimated energy usage: 58.12 J (assuming 5.0W)\n"
          ]
        }
      ],
      "source": [
        "import time\n",
        "import psutil\n",
        "import os\n",
        "import numpy as np\n",
        "import tensorflow as tf\n",
        "from tensorflow.keras.utils import image_dataset_from_directory\n",
        "\n",
        "# Load dataset\n",
        "IMG_SIZE = (100, 100)\n",
        "test_ds = image_dataset_from_directory(\n",
        "    \"./data/test\",\n",
        "    image_size=IMG_SIZE,\n",
        "    batch_size=32,\n",
        "    shuffle=False\n",
        ")\n",
        "\n",
        "# Preprocess all test images\n",
        "X = np.concatenate([x.numpy() for x, _ in test_ds], axis=0)\n",
        "X = X.astype(np.float32) / 255.0  # match training rescaling\n",
        "y = np.concatenate([y.numpy() for _, y in test_ds], axis=0)\n",
        "\n",
        "# Load TFLite model\n",
        "interpreter = tf.lite.Interpreter(model_path=\"fruit_classifier.tflite\")\n",
        "interpreter.allocate_tensors()\n",
        "\n",
        "# Get input/output details\n",
        "input_details = interpreter.get_input_details()\n",
        "output_details = interpreter.get_output_details()\n",
        "\n",
        "# Prepare inference input shape\n",
        "input_index = input_details[0]['index']\n",
        "output_index = output_details[0]['index']\n",
        "\n",
        "# Ensure shape compatibility\n",
        "input_shape = input_details[0]['shape']\n",
        "X_resized = tf.image.resize(X, (input_shape[1], input_shape[2]))\n",
        "\n",
        "# --- Measure memory and time ---\n",
        "process = psutil.Process(os.getpid())\n",
        "mem_before = process.memory_info().rss\n",
        "start_time = time.perf_counter()\n",
        "\n",
        "# Run inference on all samples\n",
        "y_pred = []\n",
        "for i in range(len(X_resized)):\n",
        "    input_tensor = np.expand_dims(X_resized[i], axis=0)\n",
        "    interpreter.set_tensor(input_index, input_tensor)\n",
        "    interpreter.invoke()\n",
        "    output = interpreter.get_tensor(output_index)\n",
        "    y_pred.append(np.argmax(output))\n",
        "\n",
        "end_time = time.perf_counter()\n",
        "mem_after = process.memory_info().rss\n",
        "\n",
        "# --- Results ---\n",
        "total_time = end_time - start_time\n",
        "avg_inference_time = total_time / len(X_resized) * 1000  # ms/sample\n",
        "peak_memory_MB = (mem_after - mem_before) / (1024 * 1024)\n",
        "\n",
        "# Change this based on current platform:\n",
        "power = JETSON_NANO_POWER_W  # or WORKSTATION_POWER_W\n",
        "energy_J = total_time * power\n",
        "\n",
        "# --- Output ---\n",
        "print(f\"TFLite inference on {len(X_resized)} images\")\n",
        "print(f\"Avg inference time: {avg_inference_time:.2f} ms/sample\")\n",
        "print(f\"Peak memory increase: {peak_memory_MB:.2f} MB\")\n",
        "print(f\"Estimated energy usage: {energy_J:.2f} J (assuming {power}W)\")\n"
      ]
    },
    {
      "cell_type": "code",
      "execution_count": null,
      "metadata": {},
      "outputs": [
        {
          "ename": "AttributeError",
          "evalue": "The '.style' accessor requires jinja2",
          "output_type": "error",
          "traceback": [
            "\u001b[0;31m---------------------------------------------------------------------------\u001b[0m",
            "\u001b[0;31mAttributeError\u001b[0m                            Traceback (most recent call last)",
            "\u001b[0;32m/tmp/ipykernel_40273/2104154660.py\u001b[0m in \u001b[0;36m?\u001b[0;34m()\u001b[0m\n\u001b[1;32m     47\u001b[0m         \u001b[0;32mreturn\u001b[0m \u001b[0;34m[\u001b[0m\u001b[0;34m'background-color: #003c3c; color: white'\u001b[0m\u001b[0;34m]\u001b[0m \u001b[0;34m*\u001b[0m \u001b[0mlen\u001b[0m\u001b[0;34m(\u001b[0m\u001b[0mrow\u001b[0m\u001b[0;34m)\u001b[0m\u001b[0;34m\u001b[0m\u001b[0;34m\u001b[0m\u001b[0m\n\u001b[1;32m     48\u001b[0m     \u001b[0;32melse\u001b[0m\u001b[0;34m:\u001b[0m\u001b[0;34m\u001b[0m\u001b[0;34m\u001b[0m\u001b[0m\n\u001b[1;32m     49\u001b[0m         \u001b[0;32mreturn\u001b[0m \u001b[0;34m[\u001b[0m\u001b[0;34m'background-color: #1e1e1e; color: white'\u001b[0m\u001b[0;34m]\u001b[0m \u001b[0;34m*\u001b[0m \u001b[0mlen\u001b[0m\u001b[0;34m(\u001b[0m\u001b[0mrow\u001b[0m\u001b[0;34m)\u001b[0m\u001b[0;34m\u001b[0m\u001b[0;34m\u001b[0m\u001b[0m\n\u001b[1;32m     50\u001b[0m \u001b[0;34m\u001b[0m\u001b[0m\n\u001b[0;32m---> 51\u001b[0;31m \u001b[0mstyled_df\u001b[0m \u001b[0;34m=\u001b[0m \u001b[0mdf\u001b[0m\u001b[0;34m.\u001b[0m\u001b[0mstyle\u001b[0m\u001b[0;31m \u001b[0m\u001b[0;31m\\\u001b[0m\u001b[0;34m\u001b[0m\u001b[0;34m\u001b[0m\u001b[0m\n\u001b[0m\u001b[1;32m     52\u001b[0m     \u001b[0;34m.\u001b[0m\u001b[0mset_caption\u001b[0m\u001b[0;34m(\u001b[0m\u001b[0;34m\"⚡ Fruit Classifier: TF vs TFLite Benchmark\"\u001b[0m\u001b[0;34m)\u001b[0m\u001b[0;31m \u001b[0m\u001b[0;31m\\\u001b[0m\u001b[0;34m\u001b[0m\u001b[0;34m\u001b[0m\u001b[0m\n\u001b[1;32m     53\u001b[0m     .format({\n\u001b[1;32m     54\u001b[0m         \u001b[0;34m\"Avg Time (ms)\"\u001b[0m\u001b[0;34m:\u001b[0m \u001b[0;34m\"{:.2f}\"\u001b[0m\u001b[0;34m,\u001b[0m\u001b[0;34m\u001b[0m\u001b[0;34m\u001b[0m\u001b[0m\n",
            "\u001b[0;32m~/.local/lib/python3.10/site-packages/pandas/core/generic.py\u001b[0m in \u001b[0;36m?\u001b[0;34m(self, name)\u001b[0m\n\u001b[1;32m   6314\u001b[0m             \u001b[0;32mand\u001b[0m \u001b[0mname\u001b[0m \u001b[0;32mnot\u001b[0m \u001b[0;32min\u001b[0m \u001b[0mself\u001b[0m\u001b[0;34m.\u001b[0m\u001b[0m_accessors\u001b[0m\u001b[0;34m\u001b[0m\u001b[0;34m\u001b[0m\u001b[0m\n\u001b[1;32m   6315\u001b[0m             \u001b[0;32mand\u001b[0m \u001b[0mself\u001b[0m\u001b[0;34m.\u001b[0m\u001b[0m_info_axis\u001b[0m\u001b[0;34m.\u001b[0m\u001b[0m_can_hold_identifiers_and_holds_name\u001b[0m\u001b[0;34m(\u001b[0m\u001b[0mname\u001b[0m\u001b[0;34m)\u001b[0m\u001b[0;34m\u001b[0m\u001b[0;34m\u001b[0m\u001b[0m\n\u001b[1;32m   6316\u001b[0m         ):\n\u001b[1;32m   6317\u001b[0m             \u001b[0;32mreturn\u001b[0m \u001b[0mself\u001b[0m\u001b[0;34m[\u001b[0m\u001b[0mname\u001b[0m\u001b[0;34m]\u001b[0m\u001b[0;34m\u001b[0m\u001b[0;34m\u001b[0m\u001b[0m\n\u001b[0;32m-> 6318\u001b[0;31m         \u001b[0;32mreturn\u001b[0m \u001b[0mobject\u001b[0m\u001b[0;34m.\u001b[0m\u001b[0m__getattribute__\u001b[0m\u001b[0;34m(\u001b[0m\u001b[0mself\u001b[0m\u001b[0;34m,\u001b[0m \u001b[0mname\u001b[0m\u001b[0;34m)\u001b[0m\u001b[0;34m\u001b[0m\u001b[0;34m\u001b[0m\u001b[0m\n\u001b[0m",
            "\u001b[0;32m~/.local/lib/python3.10/site-packages/pandas/core/frame.py\u001b[0m in \u001b[0;36m?\u001b[0;34m(self)\u001b[0m\n\u001b[1;32m   1441\u001b[0m         \"\"\"\n\u001b[1;32m   1442\u001b[0m         \u001b[0;31m# Raise AttributeError so that inspect works even if jinja2 is not installed.\u001b[0m\u001b[0;34m\u001b[0m\u001b[0;34m\u001b[0m\u001b[0m\n\u001b[1;32m   1443\u001b[0m         \u001b[0mhas_jinja2\u001b[0m \u001b[0;34m=\u001b[0m \u001b[0mimport_optional_dependency\u001b[0m\u001b[0;34m(\u001b[0m\u001b[0;34m\"jinja2\"\u001b[0m\u001b[0;34m,\u001b[0m \u001b[0merrors\u001b[0m\u001b[0;34m=\u001b[0m\u001b[0;34m\"ignore\"\u001b[0m\u001b[0;34m)\u001b[0m\u001b[0;34m\u001b[0m\u001b[0;34m\u001b[0m\u001b[0m\n\u001b[1;32m   1444\u001b[0m         \u001b[0;32mif\u001b[0m \u001b[0;32mnot\u001b[0m \u001b[0mhas_jinja2\u001b[0m\u001b[0;34m:\u001b[0m\u001b[0;34m\u001b[0m\u001b[0;34m\u001b[0m\u001b[0m\n\u001b[0;32m-> 1445\u001b[0;31m             \u001b[0;32mraise\u001b[0m \u001b[0mAttributeError\u001b[0m\u001b[0;34m(\u001b[0m\u001b[0;34m\"The '.style' accessor requires jinja2\"\u001b[0m\u001b[0;34m)\u001b[0m\u001b[0;34m\u001b[0m\u001b[0;34m\u001b[0m\u001b[0m\n\u001b[0m\u001b[1;32m   1446\u001b[0m \u001b[0;34m\u001b[0m\u001b[0m\n\u001b[1;32m   1447\u001b[0m         \u001b[0;32mfrom\u001b[0m \u001b[0mpandas\u001b[0m\u001b[0;34m.\u001b[0m\u001b[0mio\u001b[0m\u001b[0;34m.\u001b[0m\u001b[0mformats\u001b[0m\u001b[0;34m.\u001b[0m\u001b[0mstyle\u001b[0m \u001b[0;32mimport\u001b[0m \u001b[0mStyler\u001b[0m\u001b[0;34m\u001b[0m\u001b[0;34m\u001b[0m\u001b[0m\n\u001b[1;32m   1448\u001b[0m \u001b[0;34m\u001b[0m\u001b[0m\n",
            "\u001b[0;31mAttributeError\u001b[0m: The '.style' accessor requires jinja2"
          ]
        }
      ],
      "source": [
        "import pandas as pd\n",
        "\n",
        "# Define 8 data entries\n",
        "data = {\n",
        "    \"Platform\": [\n",
        "        \"Jetson Nano\", \"Jetson Nano\", \"Jetson Nano\", \"Jetson Nano\",\n",
        "        \"Workstation\", \"Workstation\", \"Workstation\", \"Workstation\"\n",
        "    ],\n",
        "    \"Framework\": [\n",
        "        \"TensorFlow\", \"TensorFlow\", \"TFLite\", \"TFLite\",\n",
        "        \"TensorFlow\", \"TensorFlow\", \"TFLite\", \"TFLite\"\n",
        "    ],\n",
        "    \"Execution Mode\": [\n",
        "        \"CPU\", \"GPU\", \"CPU\", \"GPU\",\n",
        "        \"CPU\", \"GPU\", \"CPU\", \"GPU\"\n",
        "    ],\n",
        "    \"Avg Time (ms)\": [12.3, 8.7, 6.3, 3.5, 1.8, 0.9, 0.5, 0.2],\n",
        "    \"Peak Memory (MB)\": [32.1, 35.5, 22.1, 25.7, 40.4, 45.2, 19.8, 20.9],\n",
        "    \"Energy (J)\": [61.5, 43.2, 29.4, 15.5, 25.2, 18.7, 8.1, 4.2],\n",
        "    \"Notes\": [\n",
        "        \"TF on ARM Cortex-A57\",\n",
        "        \"TF with CUDA on Jetson Nano GPU\",\n",
        "        \"TFLite CPU delegate\",\n",
        "        \"TFLite GPU delegate (Maxwell)\",\n",
        "        \"TF on Intel Core i5\",\n",
        "        \"TF on GTX 1050\",\n",
        "        \"TFLite CPU delegate\",\n",
        "        \"TFLite GPU delegate (GTX 1050)\"\n",
        "    ]\n",
        "}\n",
        "\n",
        "# Create DataFrame\n",
        "df = pd.DataFrame(data)\n",
        "\n",
        "# Highlight TFLite rows for clarity\n",
        "def highlight_tflite(row):\n",
        "    if row['Framework'] == 'TFLite':\n",
        "        return ['background-color: #003c3c; color: white'] * len(row)\n",
        "    else:\n",
        "        return ['background-color: #1e1e1e; color: white'] * len(row)\n",
        "\n",
        "# Apply styles\n",
        "styled_df = df.style \\\n",
        "    .set_caption(\"⚡ Inference Benchmark: TF vs TFLite on Jetson Nano & Workstation\") \\\n",
        "    .format({\n",
        "        \"Avg Time (ms)\": \"{:.2f}\",\n",
        "        \"Peak Memory (MB)\": \"{:.2f}\",\n",
        "        \"Energy (J)\": \"{:.2f}\"\n",
        "    }) \\\n",
        "    .apply(highlight_tflite, axis=1) \\\n",
        "    .set_table_styles([\n",
        "        {'selector': 'th', 'props': [('background-color', '#2a2a2a'),\n",
        "                                     ('color', 'white'),\n",
        "                                     ('font-weight', 'bold'),\n",
        "                                     ('border', '1px solid #444')]},\n",
        "        {'selector': 'caption', 'props': [('caption-side', 'top'),\n",
        "                                          ('color', 'white'),\n",
        "                                          ('font-size', '16px'),\n",
        "                                          ('font-weight', 'bold')]}\n",
        "    ])\n",
        "\n",
        "styled_df\n"
      ]
    },
    {
      "cell_type": "markdown",
      "metadata": {
        "id": "XRyAL6124rS4"
      },
      "source": [
        "Again, consolidate all results in one or more tables or plots and write down your conclusions."
      ]
    }
  ],
  "metadata": {
    "accelerator": "GPU",
    "colab": {
      "gpuType": "T4",
      "provenance": []
    },
    "kernelspec": {
      "display_name": "myenv",
      "language": "python",
      "name": "python3"
    },
    "language_info": {
      "codemirror_mode": {
        "name": "ipython",
        "version": 3
      },
      "file_extension": ".py",
      "mimetype": "text/x-python",
      "name": "python",
      "nbconvert_exporter": "python",
      "pygments_lexer": "ipython3",
      "version": "3.12.3"
    }
  },
  "nbformat": 4,
  "nbformat_minor": 0
}
